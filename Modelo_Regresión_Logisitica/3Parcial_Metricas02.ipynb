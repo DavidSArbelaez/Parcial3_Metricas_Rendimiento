{
  "cells": [
    {
      "cell_type": "markdown",
      "metadata": {
        "id": "1jY1NHTHmTeE"
      },
      "source": [
        "![](https://github.com/DavidSArbelaez/Parcial_MetricasRendimiento/blob/main/img/logo.png?raw=1)"
      ]
    },
    {
      "cell_type": "markdown",
      "metadata": {
        "id": "nygdyF7smTeG"
      },
      "source": [
        "# 2do Parcial: Análisis Exploratorio de Datos. \n",
        "\n",
        "### Nombre de los Estudiantes:\n",
        "    * David Steven Arbeláez Chávez\n",
        "### Cédula de Ciudadanía:  \n",
        "    * 1000 253 275\n",
        "# Objetivo:\n",
        "\n",
        "En este cuaderno se busca realizar una serie de ejercicios\n",
        "\n",
        "---\n",
        "\n",
        "Se obtiene el dataframe y las imagenes del [repositorio](https://github.com/DavidSArbelaez/Parcial3_Metricas_Rendimiento) de github"
      ]
    },
    {
      "cell_type": "markdown",
      "metadata": {
        "id": "-zQ4YYexmTeH"
      },
      "source": [
        "# Modelo \n",
        "### Descripción de Valores:\n",
        "|Variable|Descripción|\n",
        "|-|-|\n",
        "|Age (numeric)|Edad del deudor|\n",
        "|Sex (text: male, female)|genero|\n",
        "|Job (numeric: 0 - unskilled and non-resident, 1 - unskilled and resident, 2 - skilled, 3 - highly skilled)|Trabajo|\n",
        "|Housing (text: own, rent, or free)|s|\n",
        "|Saving accounts (text - little, moderate, quite rich, rich)|s|\n",
        "|Checking account (numeric, in DM - Deutsch Mark)|s|\n",
        "|Credit amount (numeric, in DM)|\n",
        "|Duration (numeric, in month)|\n",
        "|Purpose (text: car, furniture/equipment, radio/TV, domestic appliances, repairs, education, business, vacation/others)|"
      ]
    },
    {
      "cell_type": "markdown",
      "metadata": {
        "id": "wlXeQbWlmTeI"
      },
      "source": [
        "## 0. Bibliotecas\n",
        "\n",
        "Se declaran e importan las biliotecas a utilizar"
      ]
    },
    {
      "cell_type": "code",
      "execution_count": null,
      "metadata": {
        "id": "h6FaiYk_mTeK"
      },
      "outputs": [],
      "source": [
        "import pandas as pd \n",
        "import numpy as np\n",
        "from IPython.display import display, Markdown, Latex\n",
        "import seaborn as sns\n",
        "import matplotlib.pyplot as plt\n",
        "from sklearn.preprocessing import MinMaxScaler\n",
        "from sklearn.linear_model import LogisticRegression\n",
        "from pandas import get_dummies\n",
        "from sklearn import preprocessing\n",
        "#Se usa este metodo para separar el dataframe en 2, el dataframe para entrenar el modelo y el otro para revisar el modelo\n",
        "from sklearn.model_selection import train_test_split\n",
        "sns.set_theme(style=\"whitegrid\")\n",
        "from sklearn.metrics import recall_score,precision_score,f1_score,accuracy_score, confusion_matrix"
      ]
    },
    {
      "cell_type": "markdown",
      "metadata": {
        "id": "fJj598jF6lBg"
      },
      "source": [
        "## 1. Lectura del dataframe\n",
        "Se lee el dataframe que esta guardado en un archivo csv y se obtiene a travez del metodo `read_csv()` de la libreria pandas"
      ]
    },
    {
      "cell_type": "code",
      "execution_count": null,
      "metadata": {
        "id": "tdrH8un-xmFj"
      },
      "outputs": [],
      "source": [
        "link = \"https://raw.githubusercontent.com/DavidSArbelaez/Parcial3_Metricas_Rendimiento/main/Modelo_Regresi%C3%B3n_Logisitica/Dataset/german_credit_data.csv\"\n",
        "df = pd.read_csv(link,sep=\";\")"
      ]
    },
    {
      "cell_type": "markdown",
      "source": [
        "## 2. Analisis Exploratorio de Datos (**EDA**)"
      ],
      "metadata": {
        "id": "AV3pXDod82Bs"
      }
    },
    {
      "cell_type": "code",
      "execution_count": null,
      "metadata": {
        "colab": {
          "base_uri": "https://localhost:8080/",
          "height": 360
        },
        "id": "mBwHL4H2xx-C",
        "outputId": "fe3eb1d4-a641-4faa-83ad-3f15c4b24b68"
      },
      "outputs": [
        {
          "output_type": "display_data",
          "data": {
            "text/plain": [
              "<IPython.core.display.Markdown object>"
            ],
            "text/markdown": "## Información de las variables:"
          },
          "metadata": {}
        },
        {
          "output_type": "stream",
          "name": "stdout",
          "text": [
            "<class 'pandas.core.frame.DataFrame'>\n",
            "RangeIndex: 1000 entries, 0 to 999\n",
            "Data columns (total 10 columns):\n",
            " #   Column            Non-Null Count  Dtype \n",
            "---  ------            --------------  ----- \n",
            " 0   Age               1000 non-null   int64 \n",
            " 1   Sex               1000 non-null   object\n",
            " 2   Job               1000 non-null   int64 \n",
            " 3   Housing           1000 non-null   object\n",
            " 4   Saving accounts   817 non-null    object\n",
            " 5   Checking account  606 non-null    object\n",
            " 6   Credit amount     1000 non-null   int64 \n",
            " 7   Duration          1000 non-null   int64 \n",
            " 8   Purpose           1000 non-null   object\n",
            " 9   Risk              1000 non-null   object\n",
            "dtypes: int64(4), object(6)\n",
            "memory usage: 78.2+ KB\n"
          ]
        }
      ],
      "source": [
        "#Se muestra la información de las variables \n",
        "display(Markdown(\"## Información de las variables:\"))\n",
        "df.info()"
      ]
    },
    {
      "cell_type": "code",
      "execution_count": null,
      "metadata": {
        "colab": {
          "base_uri": "https://localhost:8080/",
          "height": 206
        },
        "id": "7coQtXN0sWYo",
        "outputId": "def0db05-4624-4ca0-a2f8-8b81ef565c36"
      },
      "outputs": [
        {
          "output_type": "execute_result",
          "data": {
            "text/plain": [
              "   Age     Sex  Job Housing Saving accounts Checking account  Credit amount  \\\n",
              "0   67    male    2     own             NaN           little           1169   \n",
              "1   22  female    2     own          little         moderate           5951   \n",
              "2   49    male    1     own          little              NaN           2096   \n",
              "3   45    male    2    free          little           little           7882   \n",
              "4   53    male    2    free          little           little           4870   \n",
              "\n",
              "   Duration              Purpose  Risk  \n",
              "0         6             radio/TV  good  \n",
              "1        48             radio/TV   bad  \n",
              "2        12            education  good  \n",
              "3        42  furniture/equipment  good  \n",
              "4        24                  car   bad  "
            ],
            "text/html": [
              "\n",
              "  <div id=\"df-1d7942d1-1411-4cfd-a8f7-921f4331ef23\">\n",
              "    <div class=\"colab-df-container\">\n",
              "      <div>\n",
              "<style scoped>\n",
              "    .dataframe tbody tr th:only-of-type {\n",
              "        vertical-align: middle;\n",
              "    }\n",
              "\n",
              "    .dataframe tbody tr th {\n",
              "        vertical-align: top;\n",
              "    }\n",
              "\n",
              "    .dataframe thead th {\n",
              "        text-align: right;\n",
              "    }\n",
              "</style>\n",
              "<table border=\"1\" class=\"dataframe\">\n",
              "  <thead>\n",
              "    <tr style=\"text-align: right;\">\n",
              "      <th></th>\n",
              "      <th>Age</th>\n",
              "      <th>Sex</th>\n",
              "      <th>Job</th>\n",
              "      <th>Housing</th>\n",
              "      <th>Saving accounts</th>\n",
              "      <th>Checking account</th>\n",
              "      <th>Credit amount</th>\n",
              "      <th>Duration</th>\n",
              "      <th>Purpose</th>\n",
              "      <th>Risk</th>\n",
              "    </tr>\n",
              "  </thead>\n",
              "  <tbody>\n",
              "    <tr>\n",
              "      <th>0</th>\n",
              "      <td>67</td>\n",
              "      <td>male</td>\n",
              "      <td>2</td>\n",
              "      <td>own</td>\n",
              "      <td>NaN</td>\n",
              "      <td>little</td>\n",
              "      <td>1169</td>\n",
              "      <td>6</td>\n",
              "      <td>radio/TV</td>\n",
              "      <td>good</td>\n",
              "    </tr>\n",
              "    <tr>\n",
              "      <th>1</th>\n",
              "      <td>22</td>\n",
              "      <td>female</td>\n",
              "      <td>2</td>\n",
              "      <td>own</td>\n",
              "      <td>little</td>\n",
              "      <td>moderate</td>\n",
              "      <td>5951</td>\n",
              "      <td>48</td>\n",
              "      <td>radio/TV</td>\n",
              "      <td>bad</td>\n",
              "    </tr>\n",
              "    <tr>\n",
              "      <th>2</th>\n",
              "      <td>49</td>\n",
              "      <td>male</td>\n",
              "      <td>1</td>\n",
              "      <td>own</td>\n",
              "      <td>little</td>\n",
              "      <td>NaN</td>\n",
              "      <td>2096</td>\n",
              "      <td>12</td>\n",
              "      <td>education</td>\n",
              "      <td>good</td>\n",
              "    </tr>\n",
              "    <tr>\n",
              "      <th>3</th>\n",
              "      <td>45</td>\n",
              "      <td>male</td>\n",
              "      <td>2</td>\n",
              "      <td>free</td>\n",
              "      <td>little</td>\n",
              "      <td>little</td>\n",
              "      <td>7882</td>\n",
              "      <td>42</td>\n",
              "      <td>furniture/equipment</td>\n",
              "      <td>good</td>\n",
              "    </tr>\n",
              "    <tr>\n",
              "      <th>4</th>\n",
              "      <td>53</td>\n",
              "      <td>male</td>\n",
              "      <td>2</td>\n",
              "      <td>free</td>\n",
              "      <td>little</td>\n",
              "      <td>little</td>\n",
              "      <td>4870</td>\n",
              "      <td>24</td>\n",
              "      <td>car</td>\n",
              "      <td>bad</td>\n",
              "    </tr>\n",
              "  </tbody>\n",
              "</table>\n",
              "</div>\n",
              "      <button class=\"colab-df-convert\" onclick=\"convertToInteractive('df-1d7942d1-1411-4cfd-a8f7-921f4331ef23')\"\n",
              "              title=\"Convert this dataframe to an interactive table.\"\n",
              "              style=\"display:none;\">\n",
              "        \n",
              "  <svg xmlns=\"http://www.w3.org/2000/svg\" height=\"24px\"viewBox=\"0 0 24 24\"\n",
              "       width=\"24px\">\n",
              "    <path d=\"M0 0h24v24H0V0z\" fill=\"none\"/>\n",
              "    <path d=\"M18.56 5.44l.94 2.06.94-2.06 2.06-.94-2.06-.94-.94-2.06-.94 2.06-2.06.94zm-11 1L8.5 8.5l.94-2.06 2.06-.94-2.06-.94L8.5 2.5l-.94 2.06-2.06.94zm10 10l.94 2.06.94-2.06 2.06-.94-2.06-.94-.94-2.06-.94 2.06-2.06.94z\"/><path d=\"M17.41 7.96l-1.37-1.37c-.4-.4-.92-.59-1.43-.59-.52 0-1.04.2-1.43.59L10.3 9.45l-7.72 7.72c-.78.78-.78 2.05 0 2.83L4 21.41c.39.39.9.59 1.41.59.51 0 1.02-.2 1.41-.59l7.78-7.78 2.81-2.81c.8-.78.8-2.07 0-2.86zM5.41 20L4 18.59l7.72-7.72 1.47 1.35L5.41 20z\"/>\n",
              "  </svg>\n",
              "      </button>\n",
              "      \n",
              "  <style>\n",
              "    .colab-df-container {\n",
              "      display:flex;\n",
              "      flex-wrap:wrap;\n",
              "      gap: 12px;\n",
              "    }\n",
              "\n",
              "    .colab-df-convert {\n",
              "      background-color: #E8F0FE;\n",
              "      border: none;\n",
              "      border-radius: 50%;\n",
              "      cursor: pointer;\n",
              "      display: none;\n",
              "      fill: #1967D2;\n",
              "      height: 32px;\n",
              "      padding: 0 0 0 0;\n",
              "      width: 32px;\n",
              "    }\n",
              "\n",
              "    .colab-df-convert:hover {\n",
              "      background-color: #E2EBFA;\n",
              "      box-shadow: 0px 1px 2px rgba(60, 64, 67, 0.3), 0px 1px 3px 1px rgba(60, 64, 67, 0.15);\n",
              "      fill: #174EA6;\n",
              "    }\n",
              "\n",
              "    [theme=dark] .colab-df-convert {\n",
              "      background-color: #3B4455;\n",
              "      fill: #D2E3FC;\n",
              "    }\n",
              "\n",
              "    [theme=dark] .colab-df-convert:hover {\n",
              "      background-color: #434B5C;\n",
              "      box-shadow: 0px 1px 3px 1px rgba(0, 0, 0, 0.15);\n",
              "      filter: drop-shadow(0px 1px 2px rgba(0, 0, 0, 0.3));\n",
              "      fill: #FFFFFF;\n",
              "    }\n",
              "  </style>\n",
              "\n",
              "      <script>\n",
              "        const buttonEl =\n",
              "          document.querySelector('#df-1d7942d1-1411-4cfd-a8f7-921f4331ef23 button.colab-df-convert');\n",
              "        buttonEl.style.display =\n",
              "          google.colab.kernel.accessAllowed ? 'block' : 'none';\n",
              "\n",
              "        async function convertToInteractive(key) {\n",
              "          const element = document.querySelector('#df-1d7942d1-1411-4cfd-a8f7-921f4331ef23');\n",
              "          const dataTable =\n",
              "            await google.colab.kernel.invokeFunction('convertToInteractive',\n",
              "                                                     [key], {});\n",
              "          if (!dataTable) return;\n",
              "\n",
              "          const docLinkHtml = 'Like what you see? Visit the ' +\n",
              "            '<a target=\"_blank\" href=https://colab.research.google.com/notebooks/data_table.ipynb>data table notebook</a>'\n",
              "            + ' to learn more about interactive tables.';\n",
              "          element.innerHTML = '';\n",
              "          dataTable['output_type'] = 'display_data';\n",
              "          await google.colab.output.renderOutput(dataTable, element);\n",
              "          const docLink = document.createElement('div');\n",
              "          docLink.innerHTML = docLinkHtml;\n",
              "          element.appendChild(docLink);\n",
              "        }\n",
              "      </script>\n",
              "    </div>\n",
              "  </div>\n",
              "  "
            ]
          },
          "metadata": {},
          "execution_count": 4
        }
      ],
      "source": [
        "#Se muestra las primeras 5 filas\n",
        "df.head(5)"
      ]
    },
    {
      "cell_type": "markdown",
      "metadata": {
        "id": "geWMfsGRsWYv"
      },
      "source": [
        "Se denota que se tiene 2 variables con datos nulos, por lo que se decide sumar la cantidad de datos nulos que se tiene por cada variable, posteriormente se revisara que tipo de variable (nominal o ordinal) es, para decidir si borrar las filas con datos nulos o usar una de las 2 tecnicas para pasar  **label encode** o `get_dummies`"
      ]
    },
    {
      "cell_type": "code",
      "execution_count": null,
      "metadata": {
        "colab": {
          "base_uri": "https://localhost:8080/",
          "height": 255
        },
        "id": "YV81L0h29lu0",
        "outputId": "af806719-d056-4d61-8b2d-1296a9d574a9"
      },
      "outputs": [
        {
          "output_type": "display_data",
          "data": {
            "text/plain": [
              "<IPython.core.display.Markdown object>"
            ],
            "text/markdown": "## Cantidad de datos nulos por columna:"
          },
          "metadata": {}
        },
        {
          "output_type": "execute_result",
          "data": {
            "text/plain": [
              "Age                   0\n",
              "Sex                   0\n",
              "Job                   0\n",
              "Housing               0\n",
              "Saving accounts     183\n",
              "Checking account    394\n",
              "Credit amount         0\n",
              "Duration              0\n",
              "Purpose               0\n",
              "Risk                  0\n",
              "dtype: int64"
            ]
          },
          "metadata": {},
          "execution_count": 5
        }
      ],
      "source": [
        "#Se imprime la suma de los datos nulos por columna\n",
        "display(Markdown(\"## Cantidad de datos nulos por columna:\"))\n",
        "df.isnull().sum()"
      ]
    },
    {
      "cell_type": "markdown",
      "metadata": {
        "id": "Dj2VNFu-sWYy"
      },
      "source": [
        "### Analisis de las variables categoricas\n",
        "\n",
        "1) Se necesita saber el comportamiento que tienen las varables entre ellas\n",
        "\n",
        "2) Se necesita identificar los datos unicos de las variables categoricas para entender que valores contienen, para determinar si son datos ordinales o nomimales"
      ]
    },
    {
      "cell_type": "code",
      "source": [
        "display(Markdown(\"## Cantidad de deudores riesgosos y no riesgosos:\"))\n",
        "df['Risk'].value_counts()\n",
        "sns.countplot(data = df, x = 'Risk')\n",
        "plt.title('Grafica: cantidad vs Risk')\n",
        "plt.show()"
      ],
      "metadata": {
        "colab": {
          "base_uri": "https://localhost:8080/",
          "height": 348
        },
        "id": "etlkiYhRnmD9",
        "outputId": "7ddfdf71-508e-47c0-c2fb-099ecf363423"
      },
      "execution_count": null,
      "outputs": [
        {
          "output_type": "display_data",
          "data": {
            "text/plain": [
              "<IPython.core.display.Markdown object>"
            ],
            "text/markdown": "## Cantidad de deudores riesgosos y no riesgosos:"
          },
          "metadata": {}
        },
        {
          "output_type": "display_data",
          "data": {
            "text/plain": [
              "<Figure size 432x288 with 1 Axes>"
            ],
            "image/png": "[encoded data removed]"
          },
          "metadata": {}
        }
      ]
    },
    {
      "cell_type": "code",
      "source": [
        "display(Markdown(\"# Exploración de las datos de las variables de categoricas:\"))\n",
        "#Se va a buscar las estadisticas de los datos de housing\n",
        "sns.countplot(data = df, hue = 'Risk', y = 'Sex')\n",
        "plt.title('Grafica: cantidad vs Sex')\n",
        "plt.show()\n",
        "display(Markdown(\"## Cantidad de deudores riesgosos y no riesgosos por genero:\"))\n",
        "print(df[['Risk','Sex']].value_counts())\n",
        "print(\"*******************************************************************************\")\n",
        "\n",
        "Cols = ['Housing', 'Saving accounts', 'Checking account',\"Purpose\"]\n",
        "Mark = [\"## Cantidad de deudores que poseen una casa, rentan o ninguna:\",\n",
        "        \"## Cantidad de deudores de los dos generos que poseen una casa, rentan o ninguna:\",\n",
        "        \"## Cantidad de deudores con riesgos que poseen una casa, rentan o ninguna:\",\n",
        "        \"## Cantidad de deudores con riesgos por genero que poseen una casa, rentan o ninguna:\",\n",
        "        \"## Cantidad de deudores que poseen dinero guardado\",\n",
        "        \"## Cantidad de deudores que tienen dinero guardado por genero que poseen:\",\n",
        "        \"## Cantidad de deudores que tienen riesgo o no con cierta cantidad de dinero\",\n",
        "        \"## Cantidad de deudores que tienen dinero guardado por genero que poseen con cierta cantidad de dinero:\",\n",
        "        \"## Cantidad de deudores que poseen un tipo de targeta\",\n",
        "        \"## Cantidad de deudores que cuentan con un tipo de targeta por genero :\",\n",
        "        \"## Cantidad de deudores que cuentan con cierto tipo de riesgo :\",\n",
        "        \"## Cantidad de deudores que cuentan con cierto tipo de riesgo por genero\",\n",
        "        \"## Cantidad de productos que se quieren sacar a credito:\",\n",
        "        \"## Cantidad de productos que se quieren sacar a credito por genero:\",\n",
        "        \"## Cantidad de productos que se quieren sacar a credito segun el riesgo:\",\n",
        "        \"## Cantidad de productos que se quieren sacar a credito por genero segun el credito:\"]\n",
        "\n",
        "#Se requiere hacer una visualización gráfica sobre los datos categorios\n",
        "a=0\n",
        "i=0\n",
        "for atributo in Cols:\n",
        "  sns.countplot(data = df, hue = 'Risk', y = atributo)\n",
        "  plt.title('Grafica: cantidad vs '+atributo)\n",
        "  plt.show()\n",
        "\n",
        "  display(Markdown(Mark[a]))\n",
        "  print(df[[atributo]].value_counts())\n",
        "  print(f'nan                 {df[atributo].isnull().sum()}')\n",
        "  a+=1\n",
        "\n",
        "  display(Markdown(Mark[a]))\n",
        "  print(df[[atributo,'Sex']].value_counts())\n",
        "  a+=1\n",
        "\n",
        "  display(Markdown(Mark[a]))\n",
        "  print(df[[atributo,'Risk']].value_counts())\n",
        "  a+=1\n",
        "\n",
        "  display(Markdown(Mark[a]))\n",
        "  print(df[[atributo,'Risk','Sex']].value_counts())\n",
        "  a+=1\n",
        "\n",
        "  print(\"*******************************************************************************\")\n",
        "\n",
        "display(Markdown(\"## Cantidad de carros, televisiones y radios que los clientes desean adquirir\"))\n",
        "filtro = df['Purpose']=='car'\n",
        "df2=df.query(\"Purpose=='car' or Purpose=='radio/TV'\")\n",
        "print(df2[['Purpose','Saving accounts','Risk','Sex']].value_counts())"
      ],
      "metadata": {
        "colab": {
          "base_uri": "https://localhost:8080/",
          "height": 1000
        },
        "id": "UW58d2KZqzzm",
        "outputId": "1ba2673a-0552-40f2-a576-ce86ad5df2de"
      },
      "execution_count": null,
      "outputs": [
        {
          "output_type": "display_data",
          "data": {
            "text/plain": [
              "<IPython.core.display.Markdown object>"
            ],
            "text/markdown": "# Exploración de las datos de las variables de categoricas:"
          },
          "metadata": {}
        },
        {
          "output_type": "display_data",
          "data": {
            "text/plain": [
              "<Figure size 432x288 with 1 Axes>"
            ],
            "image/png": "[encoded data removed]"
          },
          "metadata": {}
        },
        {
          "output_type": "display_data",
          "data": {
            "text/plain": [
              "<IPython.core.display.Markdown object>"
            ],
            "text/markdown": "## Cantidad de deudores riesgosos y no riesgosos por genero:"
          },
          "metadata": {}
        },
        {
          "output_type": "stream",
          "name": "stdout",
          "text": [
            "Risk  Sex   \n",
            "good  male      499\n",
            "      female    201\n",
            "bad   male      191\n",
            "      female    109\n",
            "dtype: int64\n",
            "*******************************************************************************\n"
          ]
        },
        {
          "output_type": "display_data",
          "data": {
            "text/plain": [
              "<Figure size 432x288 with 1 Axes>"
            ],
            "image/png": "[encoded data removed]"
          },
          "metadata": {}
        },
        {
          "output_type": "display_data",
          "data": {
            "text/plain": [
              "<IPython.core.display.Markdown object>"
            ],
            "text/markdown": "## Cantidad de deudores que poseen una casa, rentan o ninguna:"
          },
          "metadata": {}
        },
        {
          "output_type": "stream",
          "name": "stdout",
          "text": [
            "Housing\n",
            "own        713\n",
            "rent       179\n",
            "free       108\n",
            "dtype: int64\n",
            "nan                 0\n"
          ]
        },
        {
          "output_type": "display_data",
          "data": {
            "text/plain": [
              "<IPython.core.display.Markdown object>"
            ],
            "text/markdown": "## Cantidad de deudores de los dos generos que poseen una casa, rentan o ninguna:"
          },
          "metadata": {}
        },
        {
          "output_type": "stream",
          "name": "stdout",
          "text": [
            "Housing  Sex   \n",
            "own      male      517\n",
            "         female    196\n",
            "rent     female     95\n",
            "free     male       89\n",
            "rent     male       84\n",
            "free     female     19\n",
            "dtype: int64\n"
          ]
        },
        {
          "output_type": "display_data",
          "data": {
            "text/plain": [
              "<IPython.core.display.Markdown object>"
            ],
            "text/markdown": "## Cantidad de deudores con riesgos que poseen una casa, rentan o ninguna:"
          },
          "metadata": {}
        },
        {
          "output_type": "stream",
          "name": "stdout",
          "text": [
            "Housing  Risk\n",
            "own      good    527\n",
            "         bad     186\n",
            "rent     good    109\n",
            "         bad      70\n",
            "free     good     64\n",
            "         bad      44\n",
            "dtype: int64\n"
          ]
        },
        {
          "output_type": "display_data",
          "data": {
            "text/plain": [
              "<IPython.core.display.Markdown object>"
            ],
            "text/markdown": "## Cantidad de deudores con riesgos por genero que poseen una casa, rentan o ninguna:"
          },
          "metadata": {}
        },
        {
          "output_type": "stream",
          "name": "stdout",
          "text": [
            "Housing  Risk  Sex   \n",
            "own      good  male      390\n",
            "               female    137\n",
            "         bad   male      127\n",
            "               female     59\n",
            "free     good  male       56\n",
            "rent     good  female     56\n",
            "               male       53\n",
            "         bad   female     39\n",
            "free     bad   male       33\n",
            "rent     bad   male       31\n",
            "free     bad   female     11\n",
            "         good  female      8\n",
            "dtype: int64\n",
            "*******************************************************************************\n"
          ]
        },
        {
          "output_type": "display_data",
          "data": {
            "text/plain": [
              "<Figure size 432x288 with 1 Axes>"
            ],
            "image/png": "[encoded data removed]"
          },
          "metadata": {}
        },
        {
          "output_type": "display_data",
          "data": {
            "text/plain": [
              "<IPython.core.display.Markdown object>"
            ],
            "text/markdown": "## Cantidad de deudores que poseen dinero guardado"
          },
          "metadata": {}
        },
        {
          "output_type": "stream",
          "name": "stdout",
          "text": [
            "Saving accounts\n",
            "little             603\n",
            "moderate           103\n",
            "quite rich          63\n",
            "rich                48\n",
            "dtype: int64\n",
            "nan                 183\n"
          ]
        },
        {
          "output_type": "display_data",
          "data": {
            "text/plain": [
              "<IPython.core.display.Markdown object>"
            ],
            "text/markdown": "## Cantidad de deudores que tienen dinero guardado por genero que poseen:"
          },
          "metadata": {}
        },
        {
          "output_type": "stream",
          "name": "stdout",
          "text": [
            "Saving accounts  Sex   \n",
            "little           male      409\n",
            "                 female    194\n",
            "moderate         male       71\n",
            "quite rich       male       47\n",
            "moderate         female     32\n",
            "rich             male       29\n",
            "                 female     19\n",
            "quite rich       female     16\n",
            "dtype: int64\n"
          ]
        },
        {
          "output_type": "display_data",
          "data": {
            "text/plain": [
              "<IPython.core.display.Markdown object>"
            ],
            "text/markdown": "## Cantidad de deudores que tienen riesgo o no con cierta cantidad de dinero"
          },
          "metadata": {}
        },
        {
          "output_type": "stream",
          "name": "stdout",
          "text": [
            "Saving accounts  Risk\n",
            "little           good    386\n",
            "                 bad     217\n",
            "moderate         good     69\n",
            "quite rich       good     52\n",
            "rich             good     42\n",
            "moderate         bad      34\n",
            "quite rich       bad      11\n",
            "rich             bad       6\n",
            "dtype: int64\n"
          ]
        },
        {
          "output_type": "display_data",
          "data": {
            "text/plain": [
              "<IPython.core.display.Markdown object>"
            ],
            "text/markdown": "## Cantidad de deudores que tienen dinero guardado por genero que poseen con cierta cantidad de dinero:"
          },
          "metadata": {}
        },
        {
          "output_type": "stream",
          "name": "stdout",
          "text": [
            "Saving accounts  Risk  Sex   \n",
            "little           good  male      268\n",
            "                 bad   male      141\n",
            "                 good  female    118\n",
            "                 bad   female     76\n",
            "moderate         good  male       52\n",
            "quite rich       good  male       40\n",
            "rich             good  male       24\n",
            "moderate         bad   male       19\n",
            "rich             good  female     18\n",
            "moderate         good  female     17\n",
            "                 bad   female     15\n",
            "quite rich       good  female     12\n",
            "                 bad   male        7\n",
            "rich             bad   male        5\n",
            "quite rich       bad   female      4\n",
            "rich             bad   female      1\n",
            "dtype: int64\n",
            "*******************************************************************************\n"
          ]
        },
        {
          "output_type": "display_data",
          "data": {
            "text/plain": [
              "<Figure size 432x288 with 1 Axes>"
            ],
            "image/png": "[encoded data removed]"
          },
          "metadata": {}
        },
        {
          "output_type": "display_data",
          "data": {
            "text/plain": [
              "<IPython.core.display.Markdown object>"
            ],
            "text/markdown": "## Cantidad de deudores que poseen un tipo de targeta"
          },
          "metadata": {}
        },
        {
          "output_type": "stream",
          "name": "stdout",
          "text": [
            "Checking account\n",
            "little              274\n",
            "moderate            269\n",
            "rich                 63\n",
            "dtype: int64\n",
            "nan                 394\n"
          ]
        },
        {
          "output_type": "display_data",
          "data": {
            "text/plain": [
              "<IPython.core.display.Markdown object>"
            ],
            "text/markdown": "## Cantidad de deudores que cuentan con un tipo de targeta por genero :"
          },
          "metadata": {}
        },
        {
          "output_type": "stream",
          "name": "stdout",
          "text": [
            "Checking account  Sex   \n",
            "little            male      186\n",
            "moderate          male      183\n",
            "little            female     88\n",
            "moderate          female     86\n",
            "rich              male       43\n",
            "                  female     20\n",
            "dtype: int64\n"
          ]
        },
        {
          "output_type": "display_data",
          "data": {
            "text/plain": [
              "<IPython.core.display.Markdown object>"
            ],
            "text/markdown": "## Cantidad de deudores que cuentan con cierto tipo de riesgo :"
          },
          "metadata": {}
        },
        {
          "output_type": "stream",
          "name": "stdout",
          "text": [
            "Checking account  Risk\n",
            "moderate          good    164\n",
            "little            good    139\n",
            "                  bad     135\n",
            "moderate          bad     105\n",
            "rich              good     49\n",
            "                  bad      14\n",
            "dtype: int64\n"
          ]
        },
        {
          "output_type": "display_data",
          "data": {
            "text/plain": [
              "<IPython.core.display.Markdown object>"
            ],
            "text/markdown": "## Cantidad de deudores que cuentan con cierto tipo de riesgo por genero"
          },
          "metadata": {}
        },
        {
          "output_type": "stream",
          "name": "stdout",
          "text": [
            "Checking account  Risk  Sex   \n",
            "moderate          good  male      119\n",
            "little            good  male       97\n",
            "                  bad   male       89\n",
            "moderate          bad   male       64\n",
            "little            bad   female     46\n",
            "moderate          good  female     45\n",
            "little            good  female     42\n",
            "moderate          bad   female     41\n",
            "rich              good  male       33\n",
            "                        female     16\n",
            "                  bad   male       10\n",
            "                        female      4\n",
            "dtype: int64\n",
            "*******************************************************************************\n"
          ]
        },
        {
          "output_type": "display_data",
          "data": {
            "text/plain": [
              "<Figure size 432x288 with 1 Axes>"
            ],
            "image/png": "[encoded data removed]"
          },
          "metadata": {}
        },
        {
          "output_type": "display_data",
          "data": {
            "text/plain": [
              "<IPython.core.display.Markdown object>"
            ],
            "text/markdown": "## Cantidad de productos que se quieren sacar a credito:"
          },
          "metadata": {}
        },
        {
          "output_type": "stream",
          "name": "stdout",
          "text": [
            "Purpose            \n",
            "car                    337\n",
            "radio/TV               280\n",
            "furniture/equipment    181\n",
            "business                97\n",
            "education               59\n",
            "repairs                 22\n",
            "domestic appliances     12\n",
            "vacation/others         12\n",
            "dtype: int64\n",
            "nan                 0\n"
          ]
        },
        {
          "output_type": "display_data",
          "data": {
            "text/plain": [
              "<IPython.core.display.Markdown object>"
            ],
            "text/markdown": "## Cantidad de productos que se quieren sacar a credito por genero:"
          },
          "metadata": {}
        },
        {
          "output_type": "stream",
          "name": "stdout",
          "text": [
            "Purpose              Sex   \n",
            "car                  male      243\n",
            "radio/TV             male      195\n",
            "furniture/equipment  male      107\n",
            "car                  female     94\n",
            "radio/TV             female     85\n",
            "business             male       78\n",
            "furniture/equipment  female     74\n",
            "education            male       35\n",
            "                     female     24\n",
            "business             female     19\n",
            "repairs              male       17\n",
            "vacation/others      male        9\n",
            "domestic appliances  female      6\n",
            "                     male        6\n",
            "repairs              female      5\n",
            "vacation/others      female      3\n",
            "dtype: int64\n"
          ]
        },
        {
          "output_type": "display_data",
          "data": {
            "text/plain": [
              "<IPython.core.display.Markdown object>"
            ],
            "text/markdown": "## Cantidad de productos que se quieren sacar a credito segun el riesgo:"
          },
          "metadata": {}
        },
        {
          "output_type": "stream",
          "name": "stdout",
          "text": [
            "Purpose              Risk\n",
            "car                  good    231\n",
            "radio/TV             good    218\n",
            "furniture/equipment  good    123\n",
            "car                  bad     106\n",
            "business             good     63\n",
            "radio/TV             bad      62\n",
            "furniture/equipment  bad      58\n",
            "education            good     36\n",
            "business             bad      34\n",
            "education            bad      23\n",
            "repairs              good     14\n",
            "domestic appliances  good      8\n",
            "repairs              bad       8\n",
            "vacation/others      good      7\n",
            "                     bad       5\n",
            "domestic appliances  bad       4\n",
            "dtype: int64\n"
          ]
        },
        {
          "output_type": "display_data",
          "data": {
            "text/plain": [
              "<IPython.core.display.Markdown object>"
            ],
            "text/markdown": "## Cantidad de productos que se quieren sacar a credito por genero segun el credito:"
          },
          "metadata": {}
        },
        {
          "output_type": "stream",
          "name": "stdout",
          "text": [
            "Purpose              Risk  Sex   \n",
            "car                  good  male      177\n",
            "radio/TV             good  male      152\n",
            "furniture/equipment  good  male       77\n",
            "car                  bad   male       66\n",
            "radio/TV             good  female     66\n",
            "car                  good  female     54\n",
            "business             good  male       51\n",
            "furniture/equipment  good  female     46\n",
            "radio/TV             bad   male       43\n",
            "car                  bad   female     40\n",
            "furniture/equipment  bad   male       30\n",
            "                           female     28\n",
            "business             bad   male       27\n",
            "education            good  male       21\n",
            "radio/TV             bad   female     19\n",
            "education            good  female     15\n",
            "                     bad   male       14\n",
            "business             good  female     12\n",
            "repairs              good  male       11\n",
            "education            bad   female      9\n",
            "business             bad   female      7\n",
            "repairs              bad   male        6\n",
            "vacation/others      good  male        6\n",
            "domestic appliances  good  male        4\n",
            "                           female      4\n",
            "repairs              good  female      3\n",
            "vacation/others      bad   male        3\n",
            "domestic appliances  bad   male        2\n",
            "repairs              bad   female      2\n",
            "domestic appliances  bad   female      2\n",
            "vacation/others      bad   female      2\n",
            "                     good  female      1\n",
            "dtype: int64\n",
            "*******************************************************************************\n"
          ]
        },
        {
          "output_type": "display_data",
          "data": {
            "text/plain": [
              "<IPython.core.display.Markdown object>"
            ],
            "text/markdown": "## Cantidad de carros, televisiones y radios que los clientes desean adquirir"
          },
          "metadata": {}
        },
        {
          "output_type": "stream",
          "name": "stdout",
          "text": [
            "Purpose   Saving accounts  Risk  Sex   \n",
            "car       little           good  male      91\n",
            "radio/TV  little           good  male      84\n",
            "car       little           bad   male      49\n",
            "radio/TV  little           good  female    43\n",
            "                           bad   male      28\n",
            "car       little           bad   female    24\n",
            "                           good  female    24\n",
            "          moderate         good  male      22\n",
            "radio/TV  quite rich       good  male      16\n",
            "          little           bad   female    14\n",
            "          moderate         good  male      10\n",
            "car       rich             good  male      10\n",
            "          quite rich       good  male      10\n",
            "radio/TV  moderate         bad   male       8\n",
            "car       rich             good  female     8\n",
            "          moderate         bad   female     7\n",
            "radio/TV  moderate         good  female     7\n",
            "car       moderate         good  female     5\n",
            "                           bad   male       5\n",
            "radio/TV  rich             good  female     4\n",
            "          quite rich       good  female     4\n",
            "car       quite rich       good  female     4\n",
            "radio/TV  rich             good  male       4\n",
            "          quite rich       bad   male       3\n",
            "          moderate         bad   female     2\n",
            "car       quite rich       bad   female     2\n",
            "                                 male       2\n",
            "radio/TV  rich             bad   male       1\n",
            "dtype: int64\n"
          ]
        }
      ]
    },
    {
      "cell_type": "code",
      "source": [
        "fig, ax = plt.subplots(1,2,figsize=(15,5))\n",
        "sns.histplot(df, x='Age', bins=30, hue=\"Sex\", ax=ax[0]).set_title(\"Distribución entra la edad y el genero\");\n",
        "sns.boxplot(data=df, x=\"Sex\", y=\"Age\", ax=ax[1]).set_title(\"Distribución entra la edad y el genero\");\n",
        "\n",
        "fig, ax = plt.subplots(1,2,figsize=(15,5))\n",
        "sns.boxplot(data=df, x='Risk', y='Age', ax=ax[0]).set_title(\"Distribución de la edad con el riesgo\");\n",
        "sns.countplot(data=df, x=\"Sex\", hue=\"Risk\", ax=ax[1]).set_title(\"Distribución de la edad con el riesgo\");"
      ],
      "metadata": {
        "colab": {
          "base_uri": "https://localhost:8080/",
          "height": 693
        },
        "id": "fJP0qn_PT1ZU",
        "outputId": "b7101183-8f10-4655-a695-1ec855d18654"
      },
      "execution_count": null,
      "outputs": [
        {
          "output_type": "display_data",
          "data": {
            "text/plain": [
              "<Figure size 1080x360 with 2 Axes>"
            ],
            "image/png": "[encoded data removed]"
          },
          "metadata": {}
        },
        {
          "output_type": "display_data",
          "data": {
            "text/plain": [
              "<Figure size 1080x360 with 2 Axes>"
            ],
            "image/png": "[encoded data removed]"
          },
          "metadata": {}
        }
      ]
    },
    {
      "cell_type": "markdown",
      "source": [
        "#### Observaciones sobre los datos\n",
        "- La mayoria de deudores son varones (690) y es mas probables que sean un buen riesgo a comparación de las mujeres\n",
        "- La mayoria de deudores son dueños de una casa (71,3%) y 52,7% son una buena oportunidad de riesgo\n",
        "- Los hombres son dueños de mas casas que las mujeres\n",
        "- La mayoria de personas tienen poco dinero ahorrado (60,3%) y muy pocos tienen una buena fortuna (11,1%)\n",
        "- La mayoria de personas no cuentan con una cuenta de credito (39,4%)\n",
        "- La mayoria de personas solicitan un credito con el proposito de adquirir un carro, radio o una televisión, de los cuales mas del 50% de los solicitantes son varones y 32,9% tienen un buen riesgo de credito"
      ],
      "metadata": {
        "id": "HTocClQHus7m"
      }
    },
    {
      "cell_type": "markdown",
      "source": [
        "### Tratamiento de las variables categoricas\n",
        "\n",
        "Se van a mostrar los valores unicos de las variables categoricas"
      ],
      "metadata": {
        "id": "r0K7IIKSwJ9v"
      }
    },
    {
      "cell_type": "code",
      "execution_count": null,
      "metadata": {
        "colab": {
          "base_uri": "https://localhost:8080/",
          "height": 200
        },
        "id": "yC-aIMAu29WI",
        "outputId": "44742cb0-dcc0-4449-a545-b3c29a3db059"
      },
      "outputs": [
        {
          "output_type": "display_data",
          "data": {
            "text/plain": [
              "<IPython.core.display.Markdown object>"
            ],
            "text/markdown": "### Exploración de las datos de las columnas de categoricas:"
          },
          "metadata": {}
        },
        {
          "output_type": "display_data",
          "data": {
            "text/plain": [
              "<IPython.core.display.Markdown object>"
            ],
            "text/markdown": "**Sex:** male, female, "
          },
          "metadata": {}
        },
        {
          "output_type": "display_data",
          "data": {
            "text/plain": [
              "<IPython.core.display.Markdown object>"
            ],
            "text/markdown": "**Housing:** own, free, rent, "
          },
          "metadata": {}
        },
        {
          "output_type": "display_data",
          "data": {
            "text/plain": [
              "<IPython.core.display.Markdown object>"
            ],
            "text/markdown": "**Saving accounts:** nan, little, quite rich, rich, moderate, "
          },
          "metadata": {}
        },
        {
          "output_type": "display_data",
          "data": {
            "text/plain": [
              "<IPython.core.display.Markdown object>"
            ],
            "text/markdown": "**Checking account:** little, moderate, nan, rich, "
          },
          "metadata": {}
        },
        {
          "output_type": "display_data",
          "data": {
            "text/plain": [
              "<IPython.core.display.Markdown object>"
            ],
            "text/markdown": "**Purpose:** radio/TV, education, furniture/equipment, car, business, domestic appliances, repairs, vacation/others, "
          },
          "metadata": {}
        },
        {
          "output_type": "display_data",
          "data": {
            "text/plain": [
              "<IPython.core.display.Markdown object>"
            ],
            "text/markdown": "**Risk:** good, bad, "
          },
          "metadata": {}
        }
      ],
      "source": [
        "display(Markdown(\"### Exploración de las datos de las columnas de categoricas:\"))\n",
        "Cols = ['Sex', 'Housing', 'Saving accounts', 'Checking account', 'Purpose', 'Risk']\n",
        "for col in Cols:\n",
        "    line = \"**\" + col + \":** \"\n",
        "    for v in df[col].unique():\n",
        "        line = line + str(v) + \", \"\n",
        "    display(Markdown(line))"
      ]
    },
    {
      "cell_type": "markdown",
      "metadata": {
        "id": "948qquiEsWYz"
      },
      "source": [
        "#### Observaciones\n",
        "\n",
        "- Se identifico que las columnas **Housing**, **Saving accounts** y **Checking account** son variables de datos ordinales, por lo que se va a proceder el metodo de `LabelEncoder()` de la biblioteca **sklearn** del modulo preprocessing\n",
        "- Se identifica que las variables **Sex** y **Risk** son datos nominales, se decide usar el metodo `LabelEncoder()` aunque no son datos que tenga jerarquia\n",
        "- Se usara el metodo `get_dummies()` para descomponer a la columna **Purpose**"
      ]
    },
    {
      "cell_type": "markdown",
      "source": [
        "#### Uso de los métodos para el tratamiento de las variables de texto\n",
        "\n",
        "Se va usar los metodos antes mencionados para tratar las variables de categoricas, para los distintos tipos de datos (ordinales y nominales)"
      ],
      "metadata": {
        "id": "kBjkiKlVPmAl"
      }
    },
    {
      "cell_type": "markdown",
      "source": [
        "##### Datos ordinales\n",
        "- Para los datos ordinales : Se puede hacer uso tanto de la biblioteca o de una función que le asigne un numero segun el texto que se ingrese, si coincide o no con el mismo. Incluso se puede realizar con una función lambda."
      ],
      "metadata": {
        "id": "lF3wE3yEWUa7"
      }
    },
    {
      "cell_type": "code",
      "execution_count": null,
      "metadata": {
        "id": "4H58cLnZsWYz"
      },
      "outputs": [],
      "source": [
        "#Se crea el objeto de label encoder\n",
        "le = preprocessing.LabelEncoder()\n",
        "df['Saving accounts']=le.fit_transform(df['Saving accounts'])\n",
        "df['Checking account']=le.fit_transform(df['Checking account'])\n",
        "df['Housing']=le.fit_transform(df['Housing'])"
      ]
    },
    {
      "cell_type": "markdown",
      "source": [
        "Función que realiza la misma codificación que el `LabelEncoder()`"
      ],
      "metadata": {
        "id": "yHf0Yb-aS_Am"
      }
    },
    {
      "cell_type": "code",
      "source": [
        "\"\"\"\n",
        "Método que hace uso de la tecnica de codificación label encoder para pasar los datos ordinales en numericos\n",
        "* Se recibe una variable string y se retorna el numero equivalente de la variable ordinal para las variables \n",
        "  Saving accounts y Checking account\n",
        "\"\"\"\n",
        "def SavingAcc_and_CheckingAcc_LabelEnc(text):\n",
        "    if text == \"little\":\n",
        "        return 1\n",
        "    elif text == \"moderate\":\n",
        "        return 2\n",
        "    elif text == \"quite rich\":\n",
        "        return 3\n",
        "    elif text == \"rich\":\n",
        "        return 4\n",
        "    else:\n",
        "        return 0\n",
        "\n",
        "#df[\"Saving accounts\"] = df[\"Saving accounts\"].apply(SavingAcc_and_CheckingAcc_LabelEnc)\n",
        "#df[\"Checking account\"] = df[\"Checking account\"].apply(SavingAcc_and_CheckingAcc_LabelEnc)"
      ],
      "metadata": {
        "id": "jUd48OR3KZQj"
      },
      "execution_count": null,
      "outputs": []
    },
    {
      "cell_type": "markdown",
      "source": [
        "Se verifican los datos de las variables ordinales codificadas, como datos unicos y en las filas del dataset"
      ],
      "metadata": {
        "id": "PasqD1-GTvPZ"
      }
    },
    {
      "cell_type": "code",
      "execution_count": null,
      "metadata": {
        "id": "3lQ_Xd3ssWY0",
        "outputId": "c3dca5bd-7c0a-4d7c-c76d-80edb2bf223b",
        "colab": {
          "base_uri": "https://localhost:8080/",
          "height": 130
        }
      },
      "outputs": [
        {
          "output_type": "display_data",
          "data": {
            "text/plain": [
              "<IPython.core.display.Markdown object>"
            ],
            "text/markdown": "### Verificación de las datos de las variables de categoricas ordinales:"
          },
          "metadata": {}
        },
        {
          "output_type": "display_data",
          "data": {
            "text/plain": [
              "<IPython.core.display.Markdown object>"
            ],
            "text/markdown": "**Housing:** 1, 0, 2, "
          },
          "metadata": {}
        },
        {
          "output_type": "display_data",
          "data": {
            "text/plain": [
              "<IPython.core.display.Markdown object>"
            ],
            "text/markdown": "**Saving accounts:** 4, 0, 2, 3, 1, "
          },
          "metadata": {}
        },
        {
          "output_type": "display_data",
          "data": {
            "text/plain": [
              "<IPython.core.display.Markdown object>"
            ],
            "text/markdown": "**Checking account:** 0, 1, 3, 2, "
          },
          "metadata": {}
        }
      ],
      "source": [
        "#Se muestran los datos unicos\n",
        "display(Markdown(\"### Verificación de las datos de las variables de categoricas ordinales:\"))\n",
        "cols = ['Housing', 'Saving accounts', 'Checking account']\n",
        "for col in cols:\n",
        "    line = \"**\" + col + \":** \"\n",
        "    for v in df[col].unique():\n",
        "        line = line + str(v) + \", \"\n",
        "    display(Markdown(line))"
      ]
    },
    {
      "cell_type": "code",
      "execution_count": null,
      "metadata": {
        "id": "Scr8TawGsWY0",
        "outputId": "9d88ddc9-61c3-4dd6-c742-f4420e2571c7",
        "colab": {
          "base_uri": "https://localhost:8080/",
          "height": 424
        }
      },
      "outputs": [
        {
          "output_type": "execute_result",
          "data": {
            "text/plain": [
              "     Age     Sex  Job  Housing  Saving accounts  Checking account  \\\n",
              "0     67    male    2        1                4                 0   \n",
              "1     22  female    2        1                0                 1   \n",
              "2     49    male    1        1                0                 3   \n",
              "3     45    male    2        0                0                 0   \n",
              "4     53    male    2        0                0                 0   \n",
              "..   ...     ...  ...      ...              ...               ...   \n",
              "995   31  female    1        1                0                 3   \n",
              "996   40    male    3        1                0                 0   \n",
              "997   38    male    2        1                0                 3   \n",
              "998   23    male    2        0                0                 0   \n",
              "999   27    male    2        1                1                 1   \n",
              "\n",
              "     Credit amount  Duration              Purpose  Risk  \n",
              "0             1169         6             radio/TV  good  \n",
              "1             5951        48             radio/TV   bad  \n",
              "2             2096        12            education  good  \n",
              "3             7882        42  furniture/equipment  good  \n",
              "4             4870        24                  car   bad  \n",
              "..             ...       ...                  ...   ...  \n",
              "995           1736        12  furniture/equipment  good  \n",
              "996           3857        30                  car  good  \n",
              "997            804        12             radio/TV  good  \n",
              "998           1845        45             radio/TV   bad  \n",
              "999           4576        45                  car  good  \n",
              "\n",
              "[1000 rows x 10 columns]"
            ],
            "text/html": [
              "\n",
              "  <div id=\"df-f91514db-af9b-4268-8ce1-b01d3f297758\">\n",
              "    <div class=\"colab-df-container\">\n",
              "      <div>\n",
              "<style scoped>\n",
              "    .dataframe tbody tr th:only-of-type {\n",
              "        vertical-align: middle;\n",
              "    }\n",
              "\n",
              "    .dataframe tbody tr th {\n",
              "        vertical-align: top;\n",
              "    }\n",
              "\n",
              "    .dataframe thead th {\n",
              "        text-align: right;\n",
              "    }\n",
              "</style>\n",
              "<table border=\"1\" class=\"dataframe\">\n",
              "  <thead>\n",
              "    <tr style=\"text-align: right;\">\n",
              "      <th></th>\n",
              "      <th>Age</th>\n",
              "      <th>Sex</th>\n",
              "      <th>Job</th>\n",
              "      <th>Housing</th>\n",
              "      <th>Saving accounts</th>\n",
              "      <th>Checking account</th>\n",
              "      <th>Credit amount</th>\n",
              "      <th>Duration</th>\n",
              "      <th>Purpose</th>\n",
              "      <th>Risk</th>\n",
              "    </tr>\n",
              "  </thead>\n",
              "  <tbody>\n",
              "    <tr>\n",
              "      <th>0</th>\n",
              "      <td>67</td>\n",
              "      <td>male</td>\n",
              "      <td>2</td>\n",
              "      <td>1</td>\n",
              "      <td>4</td>\n",
              "      <td>0</td>\n",
              "      <td>1169</td>\n",
              "      <td>6</td>\n",
              "      <td>radio/TV</td>\n",
              "      <td>good</td>\n",
              "    </tr>\n",
              "    <tr>\n",
              "      <th>1</th>\n",
              "      <td>22</td>\n",
              "      <td>female</td>\n",
              "      <td>2</td>\n",
              "      <td>1</td>\n",
              "      <td>0</td>\n",
              "      <td>1</td>\n",
              "      <td>5951</td>\n",
              "      <td>48</td>\n",
              "      <td>radio/TV</td>\n",
              "      <td>bad</td>\n",
              "    </tr>\n",
              "    <tr>\n",
              "      <th>2</th>\n",
              "      <td>49</td>\n",
              "      <td>male</td>\n",
              "      <td>1</td>\n",
              "      <td>1</td>\n",
              "      <td>0</td>\n",
              "      <td>3</td>\n",
              "      <td>2096</td>\n",
              "      <td>12</td>\n",
              "      <td>education</td>\n",
              "      <td>good</td>\n",
              "    </tr>\n",
              "    <tr>\n",
              "      <th>3</th>\n",
              "      <td>45</td>\n",
              "      <td>male</td>\n",
              "      <td>2</td>\n",
              "      <td>0</td>\n",
              "      <td>0</td>\n",
              "      <td>0</td>\n",
              "      <td>7882</td>\n",
              "      <td>42</td>\n",
              "      <td>furniture/equipment</td>\n",
              "      <td>good</td>\n",
              "    </tr>\n",
              "    <tr>\n",
              "      <th>4</th>\n",
              "      <td>53</td>\n",
              "      <td>male</td>\n",
              "      <td>2</td>\n",
              "      <td>0</td>\n",
              "      <td>0</td>\n",
              "      <td>0</td>\n",
              "      <td>4870</td>\n",
              "      <td>24</td>\n",
              "      <td>car</td>\n",
              "      <td>bad</td>\n",
              "    </tr>\n",
              "    <tr>\n",
              "      <th>...</th>\n",
              "      <td>...</td>\n",
              "      <td>...</td>\n",
              "      <td>...</td>\n",
              "      <td>...</td>\n",
              "      <td>...</td>\n",
              "      <td>...</td>\n",
              "      <td>...</td>\n",
              "      <td>...</td>\n",
              "      <td>...</td>\n",
              "      <td>...</td>\n",
              "    </tr>\n",
              "    <tr>\n",
              "      <th>995</th>\n",
              "      <td>31</td>\n",
              "      <td>female</td>\n",
              "      <td>1</td>\n",
              "      <td>1</td>\n",
              "      <td>0</td>\n",
              "      <td>3</td>\n",
              "      <td>1736</td>\n",
              "      <td>12</td>\n",
              "      <td>furniture/equipment</td>\n",
              "      <td>good</td>\n",
              "    </tr>\n",
              "    <tr>\n",
              "      <th>996</th>\n",
              "      <td>40</td>\n",
              "      <td>male</td>\n",
              "      <td>3</td>\n",
              "      <td>1</td>\n",
              "      <td>0</td>\n",
              "      <td>0</td>\n",
              "      <td>3857</td>\n",
              "      <td>30</td>\n",
              "      <td>car</td>\n",
              "      <td>good</td>\n",
              "    </tr>\n",
              "    <tr>\n",
              "      <th>997</th>\n",
              "      <td>38</td>\n",
              "      <td>male</td>\n",
              "      <td>2</td>\n",
              "      <td>1</td>\n",
              "      <td>0</td>\n",
              "      <td>3</td>\n",
              "      <td>804</td>\n",
              "      <td>12</td>\n",
              "      <td>radio/TV</td>\n",
              "      <td>good</td>\n",
              "    </tr>\n",
              "    <tr>\n",
              "      <th>998</th>\n",
              "      <td>23</td>\n",
              "      <td>male</td>\n",
              "      <td>2</td>\n",
              "      <td>0</td>\n",
              "      <td>0</td>\n",
              "      <td>0</td>\n",
              "      <td>1845</td>\n",
              "      <td>45</td>\n",
              "      <td>radio/TV</td>\n",
              "      <td>bad</td>\n",
              "    </tr>\n",
              "    <tr>\n",
              "      <th>999</th>\n",
              "      <td>27</td>\n",
              "      <td>male</td>\n",
              "      <td>2</td>\n",
              "      <td>1</td>\n",
              "      <td>1</td>\n",
              "      <td>1</td>\n",
              "      <td>4576</td>\n",
              "      <td>45</td>\n",
              "      <td>car</td>\n",
              "      <td>good</td>\n",
              "    </tr>\n",
              "  </tbody>\n",
              "</table>\n",
              "<p>1000 rows × 10 columns</p>\n",
              "</div>\n",
              "      <button class=\"colab-df-convert\" onclick=\"convertToInteractive('df-f91514db-af9b-4268-8ce1-b01d3f297758')\"\n",
              "              title=\"Convert this dataframe to an interactive table.\"\n",
              "              style=\"display:none;\">\n",
              "        \n",
              "  <svg xmlns=\"http://www.w3.org/2000/svg\" height=\"24px\"viewBox=\"0 0 24 24\"\n",
              "       width=\"24px\">\n",
              "    <path d=\"M0 0h24v24H0V0z\" fill=\"none\"/>\n",
              "    <path d=\"M18.56 5.44l.94 2.06.94-2.06 2.06-.94-2.06-.94-.94-2.06-.94 2.06-2.06.94zm-11 1L8.5 8.5l.94-2.06 2.06-.94-2.06-.94L8.5 2.5l-.94 2.06-2.06.94zm10 10l.94 2.06.94-2.06 2.06-.94-2.06-.94-.94-2.06-.94 2.06-2.06.94z\"/><path d=\"M17.41 7.96l-1.37-1.37c-.4-.4-.92-.59-1.43-.59-.52 0-1.04.2-1.43.59L10.3 9.45l-7.72 7.72c-.78.78-.78 2.05 0 2.83L4 21.41c.39.39.9.59 1.41.59.51 0 1.02-.2 1.41-.59l7.78-7.78 2.81-2.81c.8-.78.8-2.07 0-2.86zM5.41 20L4 18.59l7.72-7.72 1.47 1.35L5.41 20z\"/>\n",
              "  </svg>\n",
              "      </button>\n",
              "      \n",
              "  <style>\n",
              "    .colab-df-container {\n",
              "      display:flex;\n",
              "      flex-wrap:wrap;\n",
              "      gap: 12px;\n",
              "    }\n",
              "\n",
              "    .colab-df-convert {\n",
              "      background-color: #E8F0FE;\n",
              "      border: none;\n",
              "      border-radius: 50%;\n",
              "      cursor: pointer;\n",
              "      display: none;\n",
              "      fill: #1967D2;\n",
              "      height: 32px;\n",
              "      padding: 0 0 0 0;\n",
              "      width: 32px;\n",
              "    }\n",
              "\n",
              "    .colab-df-convert:hover {\n",
              "      background-color: #E2EBFA;\n",
              "      box-shadow: 0px 1px 2px rgba(60, 64, 67, 0.3), 0px 1px 3px 1px rgba(60, 64, 67, 0.15);\n",
              "      fill: #174EA6;\n",
              "    }\n",
              "\n",
              "    [theme=dark] .colab-df-convert {\n",
              "      background-color: #3B4455;\n",
              "      fill: #D2E3FC;\n",
              "    }\n",
              "\n",
              "    [theme=dark] .colab-df-convert:hover {\n",
              "      background-color: #434B5C;\n",
              "      box-shadow: 0px 1px 3px 1px rgba(0, 0, 0, 0.15);\n",
              "      filter: drop-shadow(0px 1px 2px rgba(0, 0, 0, 0.3));\n",
              "      fill: #FFFFFF;\n",
              "    }\n",
              "  </style>\n",
              "\n",
              "      <script>\n",
              "        const buttonEl =\n",
              "          document.querySelector('#df-f91514db-af9b-4268-8ce1-b01d3f297758 button.colab-df-convert');\n",
              "        buttonEl.style.display =\n",
              "          google.colab.kernel.accessAllowed ? 'block' : 'none';\n",
              "\n",
              "        async function convertToInteractive(key) {\n",
              "          const element = document.querySelector('#df-f91514db-af9b-4268-8ce1-b01d3f297758');\n",
              "          const dataTable =\n",
              "            await google.colab.kernel.invokeFunction('convertToInteractive',\n",
              "                                                     [key], {});\n",
              "          if (!dataTable) return;\n",
              "\n",
              "          const docLinkHtml = 'Like what you see? Visit the ' +\n",
              "            '<a target=\"_blank\" href=https://colab.research.google.com/notebooks/data_table.ipynb>data table notebook</a>'\n",
              "            + ' to learn more about interactive tables.';\n",
              "          element.innerHTML = '';\n",
              "          dataTable['output_type'] = 'display_data';\n",
              "          await google.colab.output.renderOutput(dataTable, element);\n",
              "          const docLink = document.createElement('div');\n",
              "          docLink.innerHTML = docLinkHtml;\n",
              "          element.appendChild(docLink);\n",
              "        }\n",
              "      </script>\n",
              "    </div>\n",
              "  </div>\n",
              "  "
            ]
          },
          "metadata": {},
          "execution_count": 13
        }
      ],
      "source": [
        "#Se muestran las filas del dataset\n",
        "df"
      ]
    },
    {
      "cell_type": "markdown",
      "source": [
        "##### Datos nominales\n",
        "\n",
        "Se va a dar numeros a las variables de datos nominales para representar su categorizacion, menos la variable purpose con el motivo de facilitar la lectura y apreciación de la tabla de correlacion\n"
      ],
      "metadata": {
        "id": "xIT1tRHUWYxA"
      }
    },
    {
      "cell_type": "code",
      "source": [
        "df['Sex']=le.fit_transform(df['Sex'])#male 1,female 0\n",
        "df['Risk']=le.fit_transform(df['Risk'])#good 1, bad 0"
      ],
      "metadata": {
        "id": "z1oxWvZKXHxP"
      },
      "execution_count": null,
      "outputs": []
    },
    {
      "cell_type": "markdown",
      "source": [
        "### Correlaciones"
      ],
      "metadata": {
        "id": "pqWEFr6Wyocp"
      }
    },
    {
      "cell_type": "code",
      "source": [
        "corr = df.corr()\n",
        "sns.set(rc={'figure.figsize':(10,8)})\n",
        "sns.heatmap(corr, cmap = \"YlGnBu\",linewidths=.8, annot = True).set_title(\"Mapa de calor y correlaciones.\")\n",
        "plt.show()"
      ],
      "metadata": {
        "colab": {
          "base_uri": "https://localhost:8080/",
          "height": 590
        },
        "id": "rF8tbuJQyqYo",
        "outputId": "a7740f0f-6568-45a7-f8c1-a47c40999a76"
      },
      "execution_count": null,
      "outputs": [
        {
          "output_type": "display_data",
          "data": {
            "text/plain": [
              "<Figure size 720x576 with 2 Axes>"
            ],
            "image/png": "[encoded data removed]"
          },
          "metadata": {}
        }
      ]
    },
    {
      "cell_type": "markdown",
      "source": [
        "\n",
        "- Se denota que entre mas alta sea el monto de credito, mayor sera el tiempo del mismo\n",
        "-"
      ],
      "metadata": {
        "id": "8jRMt3G9zUcy"
      }
    },
    {
      "cell_type": "code",
      "source": [
        "# Se realizara uso de la función get_dummies() para la variable Purpose\n",
        "df=pd.get_dummies(df)\n",
        "df"
      ],
      "metadata": {
        "colab": {
          "base_uri": "https://localhost:8080/",
          "height": 505
        },
        "id": "Hj5aroE8zMNY",
        "outputId": "aa469f94-63e3-47cf-cd68-37b43eadc829"
      },
      "execution_count": null,
      "outputs": [
        {
          "output_type": "execute_result",
          "data": {
            "text/plain": [
              "     Age  Sex  Job  Housing  Saving accounts  Checking account  Credit amount  \\\n",
              "0     67    1    2        1                4                 0           1169   \n",
              "1     22    0    2        1                0                 1           5951   \n",
              "2     49    1    1        1                0                 3           2096   \n",
              "3     45    1    2        0                0                 0           7882   \n",
              "4     53    1    2        0                0                 0           4870   \n",
              "..   ...  ...  ...      ...              ...               ...            ...   \n",
              "995   31    0    1        1                0                 3           1736   \n",
              "996   40    1    3        1                0                 0           3857   \n",
              "997   38    1    2        1                0                 3            804   \n",
              "998   23    1    2        0                0                 0           1845   \n",
              "999   27    1    2        1                1                 1           4576   \n",
              "\n",
              "     Duration  Risk  Purpose_business  Purpose_car  \\\n",
              "0           6     1                 0            0   \n",
              "1          48     0                 0            0   \n",
              "2          12     1                 0            0   \n",
              "3          42     1                 0            0   \n",
              "4          24     0                 0            1   \n",
              "..        ...   ...               ...          ...   \n",
              "995        12     1                 0            0   \n",
              "996        30     1                 0            1   \n",
              "997        12     1                 0            0   \n",
              "998        45     0                 0            0   \n",
              "999        45     1                 0            1   \n",
              "\n",
              "     Purpose_domestic appliances  Purpose_education  \\\n",
              "0                              0                  0   \n",
              "1                              0                  0   \n",
              "2                              0                  1   \n",
              "3                              0                  0   \n",
              "4                              0                  0   \n",
              "..                           ...                ...   \n",
              "995                            0                  0   \n",
              "996                            0                  0   \n",
              "997                            0                  0   \n",
              "998                            0                  0   \n",
              "999                            0                  0   \n",
              "\n",
              "     Purpose_furniture/equipment  Purpose_radio/TV  Purpose_repairs  \\\n",
              "0                              0                 1                0   \n",
              "1                              0                 1                0   \n",
              "2                              0                 0                0   \n",
              "3                              1                 0                0   \n",
              "4                              0                 0                0   \n",
              "..                           ...               ...              ...   \n",
              "995                            1                 0                0   \n",
              "996                            0                 0                0   \n",
              "997                            0                 1                0   \n",
              "998                            0                 1                0   \n",
              "999                            0                 0                0   \n",
              "\n",
              "     Purpose_vacation/others  \n",
              "0                          0  \n",
              "1                          0  \n",
              "2                          0  \n",
              "3                          0  \n",
              "4                          0  \n",
              "..                       ...  \n",
              "995                        0  \n",
              "996                        0  \n",
              "997                        0  \n",
              "998                        0  \n",
              "999                        0  \n",
              "\n",
              "[1000 rows x 17 columns]"
            ],
            "text/html": [
              "\n",
              "  <div id=\"df-5f984cd5-fef9-4c07-8f3c-6e1ce5cccec7\">\n",
              "    <div class=\"colab-df-container\">\n",
              "      <div>\n",
              "<style scoped>\n",
              "    .dataframe tbody tr th:only-of-type {\n",
              "        vertical-align: middle;\n",
              "    }\n",
              "\n",
              "    .dataframe tbody tr th {\n",
              "        vertical-align: top;\n",
              "    }\n",
              "\n",
              "    .dataframe thead th {\n",
              "        text-align: right;\n",
              "    }\n",
              "</style>\n",
              "<table border=\"1\" class=\"dataframe\">\n",
              "  <thead>\n",
              "    <tr style=\"text-align: right;\">\n",
              "      <th></th>\n",
              "      <th>Age</th>\n",
              "      <th>Sex</th>\n",
              "      <th>Job</th>\n",
              "      <th>Housing</th>\n",
              "      <th>Saving accounts</th>\n",
              "      <th>Checking account</th>\n",
              "      <th>Credit amount</th>\n",
              "      <th>Duration</th>\n",
              "      <th>Risk</th>\n",
              "      <th>Purpose_business</th>\n",
              "      <th>Purpose_car</th>\n",
              "      <th>Purpose_domestic appliances</th>\n",
              "      <th>Purpose_education</th>\n",
              "      <th>Purpose_furniture/equipment</th>\n",
              "      <th>Purpose_radio/TV</th>\n",
              "      <th>Purpose_repairs</th>\n",
              "      <th>Purpose_vacation/others</th>\n",
              "    </tr>\n",
              "  </thead>\n",
              "  <tbody>\n",
              "    <tr>\n",
              "      <th>0</th>\n",
              "      <td>67</td>\n",
              "      <td>1</td>\n",
              "      <td>2</td>\n",
              "      <td>1</td>\n",
              "      <td>4</td>\n",
              "      <td>0</td>\n",
              "      <td>1169</td>\n",
              "      <td>6</td>\n",
              "      <td>1</td>\n",
              "      <td>0</td>\n",
              "      <td>0</td>\n",
              "      <td>0</td>\n",
              "      <td>0</td>\n",
              "      <td>0</td>\n",
              "      <td>1</td>\n",
              "      <td>0</td>\n",
              "      <td>0</td>\n",
              "    </tr>\n",
              "    <tr>\n",
              "      <th>1</th>\n",
              "      <td>22</td>\n",
              "      <td>0</td>\n",
              "      <td>2</td>\n",
              "      <td>1</td>\n",
              "      <td>0</td>\n",
              "      <td>1</td>\n",
              "      <td>5951</td>\n",
              "      <td>48</td>\n",
              "      <td>0</td>\n",
              "      <td>0</td>\n",
              "      <td>0</td>\n",
              "      <td>0</td>\n",
              "      <td>0</td>\n",
              "      <td>0</td>\n",
              "      <td>1</td>\n",
              "      <td>0</td>\n",
              "      <td>0</td>\n",
              "    </tr>\n",
              "    <tr>\n",
              "      <th>2</th>\n",
              "      <td>49</td>\n",
              "      <td>1</td>\n",
              "      <td>1</td>\n",
              "      <td>1</td>\n",
              "      <td>0</td>\n",
              "      <td>3</td>\n",
              "      <td>2096</td>\n",
              "      <td>12</td>\n",
              "      <td>1</td>\n",
              "      <td>0</td>\n",
              "      <td>0</td>\n",
              "      <td>0</td>\n",
              "      <td>1</td>\n",
              "      <td>0</td>\n",
              "      <td>0</td>\n",
              "      <td>0</td>\n",
              "      <td>0</td>\n",
              "    </tr>\n",
              "    <tr>\n",
              "      <th>3</th>\n",
              "      <td>45</td>\n",
              "      <td>1</td>\n",
              "      <td>2</td>\n",
              "      <td>0</td>\n",
              "      <td>0</td>\n",
              "      <td>0</td>\n",
              "      <td>7882</td>\n",
              "      <td>42</td>\n",
              "      <td>1</td>\n",
              "      <td>0</td>\n",
              "      <td>0</td>\n",
              "      <td>0</td>\n",
              "      <td>0</td>\n",
              "      <td>1</td>\n",
              "      <td>0</td>\n",
              "      <td>0</td>\n",
              "      <td>0</td>\n",
              "    </tr>\n",
              "    <tr>\n",
              "      <th>4</th>\n",
              "      <td>53</td>\n",
              "      <td>1</td>\n",
              "      <td>2</td>\n",
              "      <td>0</td>\n",
              "      <td>0</td>\n",
              "      <td>0</td>\n",
              "      <td>4870</td>\n",
              "      <td>24</td>\n",
              "      <td>0</td>\n",
              "      <td>0</td>\n",
              "      <td>1</td>\n",
              "      <td>0</td>\n",
              "      <td>0</td>\n",
              "      <td>0</td>\n",
              "      <td>0</td>\n",
              "      <td>0</td>\n",
              "      <td>0</td>\n",
              "    </tr>\n",
              "    <tr>\n",
              "      <th>...</th>\n",
              "      <td>...</td>\n",
              "      <td>...</td>\n",
              "      <td>...</td>\n",
              "      <td>...</td>\n",
              "      <td>...</td>\n",
              "      <td>...</td>\n",
              "      <td>...</td>\n",
              "      <td>...</td>\n",
              "      <td>...</td>\n",
              "      <td>...</td>\n",
              "      <td>...</td>\n",
              "      <td>...</td>\n",
              "      <td>...</td>\n",
              "      <td>...</td>\n",
              "      <td>...</td>\n",
              "      <td>...</td>\n",
              "      <td>...</td>\n",
              "    </tr>\n",
              "    <tr>\n",
              "      <th>995</th>\n",
              "      <td>31</td>\n",
              "      <td>0</td>\n",
              "      <td>1</td>\n",
              "      <td>1</td>\n",
              "      <td>0</td>\n",
              "      <td>3</td>\n",
              "      <td>1736</td>\n",
              "      <td>12</td>\n",
              "      <td>1</td>\n",
              "      <td>0</td>\n",
              "      <td>0</td>\n",
              "      <td>0</td>\n",
              "      <td>0</td>\n",
              "      <td>1</td>\n",
              "      <td>0</td>\n",
              "      <td>0</td>\n",
              "      <td>0</td>\n",
              "    </tr>\n",
              "    <tr>\n",
              "      <th>996</th>\n",
              "      <td>40</td>\n",
              "      <td>1</td>\n",
              "      <td>3</td>\n",
              "      <td>1</td>\n",
              "      <td>0</td>\n",
              "      <td>0</td>\n",
              "      <td>3857</td>\n",
              "      <td>30</td>\n",
              "      <td>1</td>\n",
              "      <td>0</td>\n",
              "      <td>1</td>\n",
              "      <td>0</td>\n",
              "      <td>0</td>\n",
              "      <td>0</td>\n",
              "      <td>0</td>\n",
              "      <td>0</td>\n",
              "      <td>0</td>\n",
              "    </tr>\n",
              "    <tr>\n",
              "      <th>997</th>\n",
              "      <td>38</td>\n",
              "      <td>1</td>\n",
              "      <td>2</td>\n",
              "      <td>1</td>\n",
              "      <td>0</td>\n",
              "      <td>3</td>\n",
              "      <td>804</td>\n",
              "      <td>12</td>\n",
              "      <td>1</td>\n",
              "      <td>0</td>\n",
              "      <td>0</td>\n",
              "      <td>0</td>\n",
              "      <td>0</td>\n",
              "      <td>0</td>\n",
              "      <td>1</td>\n",
              "      <td>0</td>\n",
              "      <td>0</td>\n",
              "    </tr>\n",
              "    <tr>\n",
              "      <th>998</th>\n",
              "      <td>23</td>\n",
              "      <td>1</td>\n",
              "      <td>2</td>\n",
              "      <td>0</td>\n",
              "      <td>0</td>\n",
              "      <td>0</td>\n",
              "      <td>1845</td>\n",
              "      <td>45</td>\n",
              "      <td>0</td>\n",
              "      <td>0</td>\n",
              "      <td>0</td>\n",
              "      <td>0</td>\n",
              "      <td>0</td>\n",
              "      <td>0</td>\n",
              "      <td>1</td>\n",
              "      <td>0</td>\n",
              "      <td>0</td>\n",
              "    </tr>\n",
              "    <tr>\n",
              "      <th>999</th>\n",
              "      <td>27</td>\n",
              "      <td>1</td>\n",
              "      <td>2</td>\n",
              "      <td>1</td>\n",
              "      <td>1</td>\n",
              "      <td>1</td>\n",
              "      <td>4576</td>\n",
              "      <td>45</td>\n",
              "      <td>1</td>\n",
              "      <td>0</td>\n",
              "      <td>1</td>\n",
              "      <td>0</td>\n",
              "      <td>0</td>\n",
              "      <td>0</td>\n",
              "      <td>0</td>\n",
              "      <td>0</td>\n",
              "      <td>0</td>\n",
              "    </tr>\n",
              "  </tbody>\n",
              "</table>\n",
              "<p>1000 rows × 17 columns</p>\n",
              "</div>\n",
              "      <button class=\"colab-df-convert\" onclick=\"convertToInteractive('df-5f984cd5-fef9-4c07-8f3c-6e1ce5cccec7')\"\n",
              "              title=\"Convert this dataframe to an interactive table.\"\n",
              "              style=\"display:none;\">\n",
              "        \n",
              "  <svg xmlns=\"http://www.w3.org/2000/svg\" height=\"24px\"viewBox=\"0 0 24 24\"\n",
              "       width=\"24px\">\n",
              "    <path d=\"M0 0h24v24H0V0z\" fill=\"none\"/>\n",
              "    <path d=\"M18.56 5.44l.94 2.06.94-2.06 2.06-.94-2.06-.94-.94-2.06-.94 2.06-2.06.94zm-11 1L8.5 8.5l.94-2.06 2.06-.94-2.06-.94L8.5 2.5l-.94 2.06-2.06.94zm10 10l.94 2.06.94-2.06 2.06-.94-2.06-.94-.94-2.06-.94 2.06-2.06.94z\"/><path d=\"M17.41 7.96l-1.37-1.37c-.4-.4-.92-.59-1.43-.59-.52 0-1.04.2-1.43.59L10.3 9.45l-7.72 7.72c-.78.78-.78 2.05 0 2.83L4 21.41c.39.39.9.59 1.41.59.51 0 1.02-.2 1.41-.59l7.78-7.78 2.81-2.81c.8-.78.8-2.07 0-2.86zM5.41 20L4 18.59l7.72-7.72 1.47 1.35L5.41 20z\"/>\n",
              "  </svg>\n",
              "      </button>\n",
              "      \n",
              "  <style>\n",
              "    .colab-df-container {\n",
              "      display:flex;\n",
              "      flex-wrap:wrap;\n",
              "      gap: 12px;\n",
              "    }\n",
              "\n",
              "    .colab-df-convert {\n",
              "      background-color: #E8F0FE;\n",
              "      border: none;\n",
              "      border-radius: 50%;\n",
              "      cursor: pointer;\n",
              "      display: none;\n",
              "      fill: #1967D2;\n",
              "      height: 32px;\n",
              "      padding: 0 0 0 0;\n",
              "      width: 32px;\n",
              "    }\n",
              "\n",
              "    .colab-df-convert:hover {\n",
              "      background-color: #E2EBFA;\n",
              "      box-shadow: 0px 1px 2px rgba(60, 64, 67, 0.3), 0px 1px 3px 1px rgba(60, 64, 67, 0.15);\n",
              "      fill: #174EA6;\n",
              "    }\n",
              "\n",
              "    [theme=dark] .colab-df-convert {\n",
              "      background-color: #3B4455;\n",
              "      fill: #D2E3FC;\n",
              "    }\n",
              "\n",
              "    [theme=dark] .colab-df-convert:hover {\n",
              "      background-color: #434B5C;\n",
              "      box-shadow: 0px 1px 3px 1px rgba(0, 0, 0, 0.15);\n",
              "      filter: drop-shadow(0px 1px 2px rgba(0, 0, 0, 0.3));\n",
              "      fill: #FFFFFF;\n",
              "    }\n",
              "  </style>\n",
              "\n",
              "      <script>\n",
              "        const buttonEl =\n",
              "          document.querySelector('#df-5f984cd5-fef9-4c07-8f3c-6e1ce5cccec7 button.colab-df-convert');\n",
              "        buttonEl.style.display =\n",
              "          google.colab.kernel.accessAllowed ? 'block' : 'none';\n",
              "\n",
              "        async function convertToInteractive(key) {\n",
              "          const element = document.querySelector('#df-5f984cd5-fef9-4c07-8f3c-6e1ce5cccec7');\n",
              "          const dataTable =\n",
              "            await google.colab.kernel.invokeFunction('convertToInteractive',\n",
              "                                                     [key], {});\n",
              "          if (!dataTable) return;\n",
              "\n",
              "          const docLinkHtml = 'Like what you see? Visit the ' +\n",
              "            '<a target=\"_blank\" href=https://colab.research.google.com/notebooks/data_table.ipynb>data table notebook</a>'\n",
              "            + ' to learn more about interactive tables.';\n",
              "          element.innerHTML = '';\n",
              "          dataTable['output_type'] = 'display_data';\n",
              "          await google.colab.output.renderOutput(dataTable, element);\n",
              "          const docLink = document.createElement('div');\n",
              "          docLink.innerHTML = docLinkHtml;\n",
              "          element.appendChild(docLink);\n",
              "        }\n",
              "      </script>\n",
              "    </div>\n",
              "  </div>\n",
              "  "
            ]
          },
          "metadata": {},
          "execution_count": 16
        }
      ]
    },
    {
      "cell_type": "markdown",
      "source": [
        "Se va a pasar la variable dependiente a la ultima columna del dataset para facilitar el tratamineto y uso del dataset como en el cuaderno como en el modelo realizado en c++"
      ],
      "metadata": {
        "id": "C8-qWYrHyJe3"
      }
    },
    {
      "cell_type": "code",
      "source": [
        "cols = list(df.columns)\n",
        "#print(cols.index('Risk'))\n",
        "cols[cols.index('Risk')]= cols[-1]\n",
        "cols_new = list(cols)\n",
        "cols_new.append('Risk')\n",
        "df=df[cols_new]\n",
        "display(Markdown(\"## Información del dataset\"))\n",
        "df.info()"
      ],
      "metadata": {
        "colab": {
          "base_uri": "https://localhost:8080/"
        },
        "id": "IB3-AQBSyRPf",
        "outputId": "64781c28-0bfa-4421-c4ef-a4398b27ef7f"
      },
      "execution_count": null,
      "outputs": [
        {
          "output_type": "stream",
          "name": "stdout",
          "text": [
            "8\n",
            "<class 'pandas.core.frame.DataFrame'>\n",
            "RangeIndex: 1000 entries, 0 to 999\n",
            "Data columns (total 18 columns):\n",
            " #   Column                       Non-Null Count  Dtype\n",
            "---  ------                       --------------  -----\n",
            " 0   Age                          1000 non-null   int64\n",
            " 1   Sex                          1000 non-null   int64\n",
            " 2   Job                          1000 non-null   int64\n",
            " 3   Housing                      1000 non-null   int64\n",
            " 4   Saving accounts              1000 non-null   int64\n",
            " 5   Checking account             1000 non-null   int64\n",
            " 6   Credit amount                1000 non-null   int64\n",
            " 7   Duration                     1000 non-null   int64\n",
            " 8   Purpose_vacation/others      1000 non-null   uint8\n",
            " 9   Purpose_business             1000 non-null   uint8\n",
            " 10  Purpose_car                  1000 non-null   uint8\n",
            " 11  Purpose_domestic appliances  1000 non-null   uint8\n",
            " 12  Purpose_education            1000 non-null   uint8\n",
            " 13  Purpose_furniture/equipment  1000 non-null   uint8\n",
            " 14  Purpose_radio/TV             1000 non-null   uint8\n",
            " 15  Purpose_repairs              1000 non-null   uint8\n",
            " 16  Purpose_vacation/others      1000 non-null   uint8\n",
            " 17  Risk                         1000 non-null   int64\n",
            "dtypes: int64(9), uint8(9)\n",
            "memory usage: 79.2 KB\n"
          ]
        }
      ]
    },
    {
      "cell_type": "markdown",
      "source": [
        "Se verifica en el dataset el cambio realizado"
      ],
      "metadata": {
        "id": "5LlCEb-oo8iK"
      }
    },
    {
      "cell_type": "code",
      "source": [
        "df"
      ],
      "metadata": {
        "colab": {
          "base_uri": "https://localhost:8080/",
          "height": 505
        },
        "id": "A1K9tZ55yejZ",
        "outputId": "6b61988f-f175-484a-f7eb-7b032af18bf6"
      },
      "execution_count": null,
      "outputs": [
        {
          "output_type": "execute_result",
          "data": {
            "text/plain": [
              "     Age  Sex  Job  Housing  Saving accounts  Checking account  Credit amount  \\\n",
              "0     67    1    2        1                4                 0           1169   \n",
              "1     22    0    2        1                0                 1           5951   \n",
              "2     49    1    1        1                0                 3           2096   \n",
              "3     45    1    2        0                0                 0           7882   \n",
              "4     53    1    2        0                0                 0           4870   \n",
              "..   ...  ...  ...      ...              ...               ...            ...   \n",
              "995   31    0    1        1                0                 3           1736   \n",
              "996   40    1    3        1                0                 0           3857   \n",
              "997   38    1    2        1                0                 3            804   \n",
              "998   23    1    2        0                0                 0           1845   \n",
              "999   27    1    2        1                1                 1           4576   \n",
              "\n",
              "     Duration  Purpose_vacation/others  Purpose_business  Purpose_car  \\\n",
              "0           6                        0                 0            0   \n",
              "1          48                        0                 0            0   \n",
              "2          12                        0                 0            0   \n",
              "3          42                        0                 0            0   \n",
              "4          24                        0                 0            1   \n",
              "..        ...                      ...               ...          ...   \n",
              "995        12                        0                 0            0   \n",
              "996        30                        0                 0            1   \n",
              "997        12                        0                 0            0   \n",
              "998        45                        0                 0            0   \n",
              "999        45                        0                 0            1   \n",
              "\n",
              "     Purpose_domestic appliances  Purpose_education  \\\n",
              "0                              0                  0   \n",
              "1                              0                  0   \n",
              "2                              0                  1   \n",
              "3                              0                  0   \n",
              "4                              0                  0   \n",
              "..                           ...                ...   \n",
              "995                            0                  0   \n",
              "996                            0                  0   \n",
              "997                            0                  0   \n",
              "998                            0                  0   \n",
              "999                            0                  0   \n",
              "\n",
              "     Purpose_furniture/equipment  Purpose_radio/TV  Purpose_repairs  \\\n",
              "0                              0                 1                0   \n",
              "1                              0                 1                0   \n",
              "2                              0                 0                0   \n",
              "3                              1                 0                0   \n",
              "4                              0                 0                0   \n",
              "..                           ...               ...              ...   \n",
              "995                            1                 0                0   \n",
              "996                            0                 0                0   \n",
              "997                            0                 1                0   \n",
              "998                            0                 1                0   \n",
              "999                            0                 0                0   \n",
              "\n",
              "     Purpose_vacation/others  Risk  \n",
              "0                          0     1  \n",
              "1                          0     0  \n",
              "2                          0     1  \n",
              "3                          0     1  \n",
              "4                          0     0  \n",
              "..                       ...   ...  \n",
              "995                        0     1  \n",
              "996                        0     1  \n",
              "997                        0     1  \n",
              "998                        0     0  \n",
              "999                        0     1  \n",
              "\n",
              "[1000 rows x 18 columns]"
            ],
            "text/html": [
              "\n",
              "  <div id=\"df-30c23588-d4b7-4c48-9610-9547fcbbdacc\">\n",
              "    <div class=\"colab-df-container\">\n",
              "      <div>\n",
              "<style scoped>\n",
              "    .dataframe tbody tr th:only-of-type {\n",
              "        vertical-align: middle;\n",
              "    }\n",
              "\n",
              "    .dataframe tbody tr th {\n",
              "        vertical-align: top;\n",
              "    }\n",
              "\n",
              "    .dataframe thead th {\n",
              "        text-align: right;\n",
              "    }\n",
              "</style>\n",
              "<table border=\"1\" class=\"dataframe\">\n",
              "  <thead>\n",
              "    <tr style=\"text-align: right;\">\n",
              "      <th></th>\n",
              "      <th>Age</th>\n",
              "      <th>Sex</th>\n",
              "      <th>Job</th>\n",
              "      <th>Housing</th>\n",
              "      <th>Saving accounts</th>\n",
              "      <th>Checking account</th>\n",
              "      <th>Credit amount</th>\n",
              "      <th>Duration</th>\n",
              "      <th>Purpose_vacation/others</th>\n",
              "      <th>Purpose_business</th>\n",
              "      <th>Purpose_car</th>\n",
              "      <th>Purpose_domestic appliances</th>\n",
              "      <th>Purpose_education</th>\n",
              "      <th>Purpose_furniture/equipment</th>\n",
              "      <th>Purpose_radio/TV</th>\n",
              "      <th>Purpose_repairs</th>\n",
              "      <th>Purpose_vacation/others</th>\n",
              "      <th>Risk</th>\n",
              "    </tr>\n",
              "  </thead>\n",
              "  <tbody>\n",
              "    <tr>\n",
              "      <th>0</th>\n",
              "      <td>67</td>\n",
              "      <td>1</td>\n",
              "      <td>2</td>\n",
              "      <td>1</td>\n",
              "      <td>4</td>\n",
              "      <td>0</td>\n",
              "      <td>1169</td>\n",
              "      <td>6</td>\n",
              "      <td>0</td>\n",
              "      <td>0</td>\n",
              "      <td>0</td>\n",
              "      <td>0</td>\n",
              "      <td>0</td>\n",
              "      <td>0</td>\n",
              "      <td>1</td>\n",
              "      <td>0</td>\n",
              "      <td>0</td>\n",
              "      <td>1</td>\n",
              "    </tr>\n",
              "    <tr>\n",
              "      <th>1</th>\n",
              "      <td>22</td>\n",
              "      <td>0</td>\n",
              "      <td>2</td>\n",
              "      <td>1</td>\n",
              "      <td>0</td>\n",
              "      <td>1</td>\n",
              "      <td>5951</td>\n",
              "      <td>48</td>\n",
              "      <td>0</td>\n",
              "      <td>0</td>\n",
              "      <td>0</td>\n",
              "      <td>0</td>\n",
              "      <td>0</td>\n",
              "      <td>0</td>\n",
              "      <td>1</td>\n",
              "      <td>0</td>\n",
              "      <td>0</td>\n",
              "      <td>0</td>\n",
              "    </tr>\n",
              "    <tr>\n",
              "      <th>2</th>\n",
              "      <td>49</td>\n",
              "      <td>1</td>\n",
              "      <td>1</td>\n",
              "      <td>1</td>\n",
              "      <td>0</td>\n",
              "      <td>3</td>\n",
              "      <td>2096</td>\n",
              "      <td>12</td>\n",
              "      <td>0</td>\n",
              "      <td>0</td>\n",
              "      <td>0</td>\n",
              "      <td>0</td>\n",
              "      <td>1</td>\n",
              "      <td>0</td>\n",
              "      <td>0</td>\n",
              "      <td>0</td>\n",
              "      <td>0</td>\n",
              "      <td>1</td>\n",
              "    </tr>\n",
              "    <tr>\n",
              "      <th>3</th>\n",
              "      <td>45</td>\n",
              "      <td>1</td>\n",
              "      <td>2</td>\n",
              "      <td>0</td>\n",
              "      <td>0</td>\n",
              "      <td>0</td>\n",
              "      <td>7882</td>\n",
              "      <td>42</td>\n",
              "      <td>0</td>\n",
              "      <td>0</td>\n",
              "      <td>0</td>\n",
              "      <td>0</td>\n",
              "      <td>0</td>\n",
              "      <td>1</td>\n",
              "      <td>0</td>\n",
              "      <td>0</td>\n",
              "      <td>0</td>\n",
              "      <td>1</td>\n",
              "    </tr>\n",
              "    <tr>\n",
              "      <th>4</th>\n",
              "      <td>53</td>\n",
              "      <td>1</td>\n",
              "      <td>2</td>\n",
              "      <td>0</td>\n",
              "      <td>0</td>\n",
              "      <td>0</td>\n",
              "      <td>4870</td>\n",
              "      <td>24</td>\n",
              "      <td>0</td>\n",
              "      <td>0</td>\n",
              "      <td>1</td>\n",
              "      <td>0</td>\n",
              "      <td>0</td>\n",
              "      <td>0</td>\n",
              "      <td>0</td>\n",
              "      <td>0</td>\n",
              "      <td>0</td>\n",
              "      <td>0</td>\n",
              "    </tr>\n",
              "    <tr>\n",
              "      <th>...</th>\n",
              "      <td>...</td>\n",
              "      <td>...</td>\n",
              "      <td>...</td>\n",
              "      <td>...</td>\n",
              "      <td>...</td>\n",
              "      <td>...</td>\n",
              "      <td>...</td>\n",
              "      <td>...</td>\n",
              "      <td>...</td>\n",
              "      <td>...</td>\n",
              "      <td>...</td>\n",
              "      <td>...</td>\n",
              "      <td>...</td>\n",
              "      <td>...</td>\n",
              "      <td>...</td>\n",
              "      <td>...</td>\n",
              "      <td>...</td>\n",
              "      <td>...</td>\n",
              "    </tr>\n",
              "    <tr>\n",
              "      <th>995</th>\n",
              "      <td>31</td>\n",
              "      <td>0</td>\n",
              "      <td>1</td>\n",
              "      <td>1</td>\n",
              "      <td>0</td>\n",
              "      <td>3</td>\n",
              "      <td>1736</td>\n",
              "      <td>12</td>\n",
              "      <td>0</td>\n",
              "      <td>0</td>\n",
              "      <td>0</td>\n",
              "      <td>0</td>\n",
              "      <td>0</td>\n",
              "      <td>1</td>\n",
              "      <td>0</td>\n",
              "      <td>0</td>\n",
              "      <td>0</td>\n",
              "      <td>1</td>\n",
              "    </tr>\n",
              "    <tr>\n",
              "      <th>996</th>\n",
              "      <td>40</td>\n",
              "      <td>1</td>\n",
              "      <td>3</td>\n",
              "      <td>1</td>\n",
              "      <td>0</td>\n",
              "      <td>0</td>\n",
              "      <td>3857</td>\n",
              "      <td>30</td>\n",
              "      <td>0</td>\n",
              "      <td>0</td>\n",
              "      <td>1</td>\n",
              "      <td>0</td>\n",
              "      <td>0</td>\n",
              "      <td>0</td>\n",
              "      <td>0</td>\n",
              "      <td>0</td>\n",
              "      <td>0</td>\n",
              "      <td>1</td>\n",
              "    </tr>\n",
              "    <tr>\n",
              "      <th>997</th>\n",
              "      <td>38</td>\n",
              "      <td>1</td>\n",
              "      <td>2</td>\n",
              "      <td>1</td>\n",
              "      <td>0</td>\n",
              "      <td>3</td>\n",
              "      <td>804</td>\n",
              "      <td>12</td>\n",
              "      <td>0</td>\n",
              "      <td>0</td>\n",
              "      <td>0</td>\n",
              "      <td>0</td>\n",
              "      <td>0</td>\n",
              "      <td>0</td>\n",
              "      <td>1</td>\n",
              "      <td>0</td>\n",
              "      <td>0</td>\n",
              "      <td>1</td>\n",
              "    </tr>\n",
              "    <tr>\n",
              "      <th>998</th>\n",
              "      <td>23</td>\n",
              "      <td>1</td>\n",
              "      <td>2</td>\n",
              "      <td>0</td>\n",
              "      <td>0</td>\n",
              "      <td>0</td>\n",
              "      <td>1845</td>\n",
              "      <td>45</td>\n",
              "      <td>0</td>\n",
              "      <td>0</td>\n",
              "      <td>0</td>\n",
              "      <td>0</td>\n",
              "      <td>0</td>\n",
              "      <td>0</td>\n",
              "      <td>1</td>\n",
              "      <td>0</td>\n",
              "      <td>0</td>\n",
              "      <td>0</td>\n",
              "    </tr>\n",
              "    <tr>\n",
              "      <th>999</th>\n",
              "      <td>27</td>\n",
              "      <td>1</td>\n",
              "      <td>2</td>\n",
              "      <td>1</td>\n",
              "      <td>1</td>\n",
              "      <td>1</td>\n",
              "      <td>4576</td>\n",
              "      <td>45</td>\n",
              "      <td>0</td>\n",
              "      <td>0</td>\n",
              "      <td>1</td>\n",
              "      <td>0</td>\n",
              "      <td>0</td>\n",
              "      <td>0</td>\n",
              "      <td>0</td>\n",
              "      <td>0</td>\n",
              "      <td>0</td>\n",
              "      <td>1</td>\n",
              "    </tr>\n",
              "  </tbody>\n",
              "</table>\n",
              "<p>1000 rows × 18 columns</p>\n",
              "</div>\n",
              "      <button class=\"colab-df-convert\" onclick=\"convertToInteractive('df-30c23588-d4b7-4c48-9610-9547fcbbdacc')\"\n",
              "              title=\"Convert this dataframe to an interactive table.\"\n",
              "              style=\"display:none;\">\n",
              "        \n",
              "  <svg xmlns=\"http://www.w3.org/2000/svg\" height=\"24px\"viewBox=\"0 0 24 24\"\n",
              "       width=\"24px\">\n",
              "    <path d=\"M0 0h24v24H0V0z\" fill=\"none\"/>\n",
              "    <path d=\"M18.56 5.44l.94 2.06.94-2.06 2.06-.94-2.06-.94-.94-2.06-.94 2.06-2.06.94zm-11 1L8.5 8.5l.94-2.06 2.06-.94-2.06-.94L8.5 2.5l-.94 2.06-2.06.94zm10 10l.94 2.06.94-2.06 2.06-.94-2.06-.94-.94-2.06-.94 2.06-2.06.94z\"/><path d=\"M17.41 7.96l-1.37-1.37c-.4-.4-.92-.59-1.43-.59-.52 0-1.04.2-1.43.59L10.3 9.45l-7.72 7.72c-.78.78-.78 2.05 0 2.83L4 21.41c.39.39.9.59 1.41.59.51 0 1.02-.2 1.41-.59l7.78-7.78 2.81-2.81c.8-.78.8-2.07 0-2.86zM5.41 20L4 18.59l7.72-7.72 1.47 1.35L5.41 20z\"/>\n",
              "  </svg>\n",
              "      </button>\n",
              "      \n",
              "  <style>\n",
              "    .colab-df-container {\n",
              "      display:flex;\n",
              "      flex-wrap:wrap;\n",
              "      gap: 12px;\n",
              "    }\n",
              "\n",
              "    .colab-df-convert {\n",
              "      background-color: #E8F0FE;\n",
              "      border: none;\n",
              "      border-radius: 50%;\n",
              "      cursor: pointer;\n",
              "      display: none;\n",
              "      fill: #1967D2;\n",
              "      height: 32px;\n",
              "      padding: 0 0 0 0;\n",
              "      width: 32px;\n",
              "    }\n",
              "\n",
              "    .colab-df-convert:hover {\n",
              "      background-color: #E2EBFA;\n",
              "      box-shadow: 0px 1px 2px rgba(60, 64, 67, 0.3), 0px 1px 3px 1px rgba(60, 64, 67, 0.15);\n",
              "      fill: #174EA6;\n",
              "    }\n",
              "\n",
              "    [theme=dark] .colab-df-convert {\n",
              "      background-color: #3B4455;\n",
              "      fill: #D2E3FC;\n",
              "    }\n",
              "\n",
              "    [theme=dark] .colab-df-convert:hover {\n",
              "      background-color: #434B5C;\n",
              "      box-shadow: 0px 1px 3px 1px rgba(0, 0, 0, 0.15);\n",
              "      filter: drop-shadow(0px 1px 2px rgba(0, 0, 0, 0.3));\n",
              "      fill: #FFFFFF;\n",
              "    }\n",
              "  </style>\n",
              "\n",
              "      <script>\n",
              "        const buttonEl =\n",
              "          document.querySelector('#df-30c23588-d4b7-4c48-9610-9547fcbbdacc button.colab-df-convert');\n",
              "        buttonEl.style.display =\n",
              "          google.colab.kernel.accessAllowed ? 'block' : 'none';\n",
              "\n",
              "        async function convertToInteractive(key) {\n",
              "          const element = document.querySelector('#df-30c23588-d4b7-4c48-9610-9547fcbbdacc');\n",
              "          const dataTable =\n",
              "            await google.colab.kernel.invokeFunction('convertToInteractive',\n",
              "                                                     [key], {});\n",
              "          if (!dataTable) return;\n",
              "\n",
              "          const docLinkHtml = 'Like what you see? Visit the ' +\n",
              "            '<a target=\"_blank\" href=https://colab.research.google.com/notebooks/data_table.ipynb>data table notebook</a>'\n",
              "            + ' to learn more about interactive tables.';\n",
              "          element.innerHTML = '';\n",
              "          dataTable['output_type'] = 'display_data';\n",
              "          await google.colab.output.renderOutput(dataTable, element);\n",
              "          const docLink = document.createElement('div');\n",
              "          docLink.innerHTML = docLinkHtml;\n",
              "          element.appendChild(docLink);\n",
              "        }\n",
              "      </script>\n",
              "    </div>\n",
              "  </div>\n",
              "  "
            ]
          },
          "metadata": {},
          "execution_count": 18
        }
      ]
    },
    {
      "cell_type": "markdown",
      "source": [
        "### Descarga del dataset procesado y analizado\n",
        "Se pasa el dataset a un archivo .csv para realizar el modelo en c++ y realizar las correspondientes comparaciones entre los dos distintos lenguajes"
      ],
      "metadata": {
        "id": "ZGnmadiP-cMW"
      }
    },
    {
      "cell_type": "code",
      "source": [
        "df.to_csv('german_credit_data.csv',sep=';')"
      ],
      "metadata": {
        "id": "bQWFtJVU-P21"
      },
      "execution_count": null,
      "outputs": []
    },
    {
      "cell_type": "markdown",
      "metadata": {
        "id": "huZMlu4j-LUu"
      },
      "source": [
        "## 3. Modelar usando la regresión logística usando Scikit-Learn"
      ]
    },
    {
      "cell_type": "markdown",
      "source": [
        "### Entrenamiento del modelo"
      ],
      "metadata": {
        "id": "SZ_dRt25lo9N"
      }
    },
    {
      "cell_type": "code",
      "execution_count": null,
      "metadata": {
        "id": "fKK7oF5t-Sri",
        "colab": {
          "base_uri": "https://localhost:8080/"
        },
        "outputId": "bed1210d-4c41-4f91-939f-1bd8732e8015"
      },
      "outputs": [
        {
          "output_type": "stream",
          "name": "stdout",
          "text": [
            "Coeficientes del modelo :\n",
            "[[ 1.25732211  0.42147497 -0.42212808 -0.02577549  0.61551191  1.67375729\n",
            "  -0.75883952 -1.43725939  0.05947401 -0.06640338 -0.04515828 -0.03290331\n",
            "  -0.57429304  0.33533251  0.46813545 -0.14170833  0.05947401]]\n",
            "Interseccion del modelo :\n",
            "[0.03012963]\n"
          ]
        }
      ],
      "source": [
        "#Se separa en dos dataframes el dataset, en datos de entrenamiento y de prueba\n",
        "train, test= train_test_split(df, test_size=0.2, random_state=42)\n",
        "\n",
        "#Se pasan las variables independientes en X_train y X_test y las dependientes en y_train y y_test\n",
        "X_train = train.drop('Risk',axis=1)\n",
        "y_train = train['Risk']\n",
        "X_test = test.drop('Risk',axis=1)\n",
        "y_test = test['Risk']\n",
        "\n",
        "#Se escalan los datos\n",
        "X_train_scaled=MinMaxScaler().fit_transform(X_train)\n",
        "\n",
        "#Se crea el modelo de regresión logistica y se entrena\n",
        "model=LogisticRegression()\n",
        "model.fit(X_train_scaled,y_train)\n",
        "\n",
        "print(f'Coeficientes del modelo :\\n{model.coef_}')\n",
        "print(f'Interseccion del modelo :\\n{model.intercept_}')"
      ]
    },
    {
      "cell_type": "markdown",
      "source": [
        "### Pruebas del modelo"
      ],
      "metadata": {
        "id": "HvtXJz0dlsMk"
      }
    },
    {
      "cell_type": "code",
      "source": [
        "#Se escalan los datos de prueba\n",
        "X_test_scaled=MinMaxScaler().fit_transform(X_test)\n",
        "\n",
        "#Se usa el modelo para predecir los datos de prueba\n",
        "y_predict_test=model.predict(X_test_scaled)\n"
      ],
      "metadata": {
        "id": "QG2rFmXTMx05"
      },
      "execution_count": null,
      "outputs": []
    },
    {
      "cell_type": "markdown",
      "source": [
        "#### Metrcias de rendimiento\n",
        "Se identifican los casos TP, FP, TN y FN en la matriz de confusión para despues realizar los calculos de la metricas del modelo "
      ],
      "metadata": {
        "id": "0LDkdTE5OV7A"
      }
    },
    {
      "cell_type": "code",
      "source": [
        "# Se calcula la matriz de confusión\n",
        "conf_matrix = confusion_matrix(y_true=y_test, y_pred=y_predict_test)\n",
        "\n",
        "# Se imprime la matriz de confusión\n",
        "fig, ax = plt.subplots(figsize=(5, 5))\n",
        "ax.matshow(conf_matrix, cmap=\"YlGnBu\", alpha=0.3)\n",
        "for i in range(conf_matrix.shape[0]):\n",
        "    for j in range(conf_matrix.shape[1]):\n",
        "        ax.text(x=j, y=i,s=conf_matrix[i, j], va='center', ha='center', size='x-large')\n",
        " \n",
        "plt.xlabel('Predictions', fontsize=24)\n",
        "plt.ylabel('Actuals', fontsize=24)\n",
        "plt.title('Confusion Matrix', fontsize=24)\n",
        "plt.show()"
      ],
      "metadata": {
        "colab": {
          "base_uri": "https://localhost:8080/",
          "height": 369
        },
        "id": "qKzq7C6fNycd",
        "outputId": "ae9deee7-26ed-4f79-d293-92e183391f2d"
      },
      "execution_count": null,
      "outputs": [
        {
          "output_type": "display_data",
          "data": {
            "text/plain": [
              "<Figure size 360x360 with 1 Axes>"
            ],
            "image/png": "[encoded data removed]"
          },
          "metadata": {}
        }
      ]
    },
    {
      "cell_type": "code",
      "source": [
        "display(Markdown(\"## Metricas para el dataset de prueba:\"))\n",
        "precision = precision_score(y_test, y_predict_test)\n",
        "recall = recall_score(y_test, y_predict_test)\n",
        "print('Precision: %.3f' % precision)\n",
        "print('Recall: %.3f' % recall)\n",
        "print('Accuracy: %.3f' % accuracy_score(y_test, y_predict_test))\n",
        "print('F1 Score: %.3f' % f1_score(y_test, y_predict_test))\n",
        "\n",
        "display(Markdown(\"## Metricas para el dataset de entrenamiento:\"))\n",
        "\n",
        "y_predict_train=model.predict(X_train_scaled)\n",
        "precision = precision_score(y_train, y_predict_train)\n",
        "recall = recall_score(y_train, y_predict_train)\n",
        "print('Precision: %.3f' % precision)\n",
        "print('Recall: %.3f' % recall)\n",
        "print('Accuracy: %.3f' % accuracy_score(y_train, y_predict_train))\n",
        "print('F1 Score: %.3f' % f1_score(y_train, y_predict_train))"
      ],
      "metadata": {
        "colab": {
          "base_uri": "https://localhost:8080/",
          "height": 251
        },
        "id": "ndStIMEGOa7X",
        "outputId": "6f187f0f-66d7-463e-c105-782ca9a27906"
      },
      "execution_count": null,
      "outputs": [
        {
          "output_type": "display_data",
          "data": {
            "text/plain": [
              "<IPython.core.display.Markdown object>"
            ],
            "text/markdown": "## Metricas para el dataset de prueba:"
          },
          "metadata": {}
        },
        {
          "output_type": "stream",
          "name": "stdout",
          "text": [
            "Precision: 0.757\n",
            "Recall: 0.929\n",
            "Accuracy: 0.740\n",
            "F1 Score: 0.834\n"
          ]
        },
        {
          "output_type": "display_data",
          "data": {
            "text/plain": [
              "<IPython.core.display.Markdown object>"
            ],
            "text/markdown": "## Metricas para el dataset de entrenamiento:"
          },
          "metadata": {}
        },
        {
          "output_type": "stream",
          "name": "stdout",
          "text": [
            "Precision: 0.765\n",
            "Recall: 0.894\n",
            "Accuracy: 0.734\n",
            "F1 Score: 0.824\n"
          ]
        }
      ]
    },
    {
      "cell_type": "markdown",
      "source": [
        "Támbien se puede calcular usando la siguiente función"
      ],
      "metadata": {
        "id": "vXHTfmafl7c9"
      }
    },
    {
      "cell_type": "code",
      "source": [
        "def calculate_metrics(predicted, actual):\n",
        "    TP, FP, TN, FN = 0, 0, 0, 0\n",
        "    for i in range(len(predicted)):\n",
        "        if   (predicted[i] == 0) & (actual[i] == 0):\n",
        "            TP += 1\n",
        "        elif (predicted[i] == 0) & (actual[i] == 1):\n",
        "            FP += 1\n",
        "        elif (predicted[i] == 1) & (actual[i] == 1):\n",
        "            TN += 1\n",
        "        else:\n",
        "            FN += 1\n",
        "\n",
        "    accuracy  = (TP + TN) / (TP + FP + TN + FN) \n",
        "    precision = (TP) / (TP + FP) \n",
        "    recall    = (TP) / (TP + FN) \n",
        "    f1_score  = (2 * precision * recall) / (precision + recall)\n",
        "    \n",
        "    return accuracy, precision, recall, f1_score"
      ],
      "metadata": {
        "id": "bg9s0sBxPnP-"
      },
      "execution_count": null,
      "outputs": []
    },
    {
      "cell_type": "markdown",
      "source": [
        "##### Conclusiones\n",
        "\n",
        "- El modelo tiene una precisión arriba del 75% con los datos de entrenamiento y con los de prueba\n",
        "- Hay una diferencia de 3% en el recall de ambos datasets\n",
        "- El Accuracy es casi el mismo con ambos datasets\n",
        "- El f1 score es el mimso en ambos datasets\n",
        "\n",
        "Referencias usadas para realizar este objetivo:\n",
        "- [Ejemplos de metricas de rendimiento en python](https://vitalflux.com/accuracy-precision-recall-f1-score-python-example/)\n",
        "\n",
        "- [Documentación sobre las metricas de rendimiento](https://www.iartificial.net/precision-recall-f1-accuracy-en-clasificacion/)"
      ],
      "metadata": {
        "id": "0uMYRynoPD-q"
      }
    },
    {
      "cell_type": "markdown",
      "source": [
        "## Comparación con el modelo de c++\n",
        "\n",
        "Se va a comparar las metricas que se obtuvieron en los dos distintos lenguajes de programación\n",
        "\n"
      ],
      "metadata": {
        "id": "PuMJGx5CqgWy"
      }
    },
    {
      "cell_type": "markdown",
      "source": [
        "###Metricas de c++\n",
        "\n",
        "<img src=\"https://github.com/DavidSArbelaez/Parcial3_Metricas_Rendimiento/blob/076d056fb608d0ce48cf9004d42007685f87de5f/Modelo_Regresi%C3%B3n_Logisitica/Imagenes/C++_Metricas.jpg?raw=true\" width=\"600px\" style=\"center; margin-top:200px\"/>\n",
        "\n",
        "- Se denota que el accuracy es mas constante y similar en python que en c++\n",
        "- La precisión de c++ es muy baja, esta abajo del 70% en ambos datasets usados(prueba y entrenamiento)\n",
        "- El recall en python es bastante alto mientras que en c++ esta abajo de 50%\n",
        "- La precisión es muy baja en c++\n",
        "\n",
        "Se determina que el modelo en python es mejor dado que tiene mejores metricas"
      ],
      "metadata": {
        "id": "n-GeCrj7uDrJ"
      }
    },
    {
      "cell_type": "markdown",
      "metadata": {
        "id": "7YdAr0XwtD4r"
      },
      "source": [
        "##Conclusiones\n",
        "\n",
        "* Se presento un data set para realizar un **EDA** y unas consultas sobre ese mimsmo dataframe.\n",
        "* Se encontraron datos nulos en la columnas (`Saving accounts` y `Credit account` y se analizaron sus datos unicos y se concluyo usar el método label enconder para pasar sus datos categoricos ordinales en numeros que representen su jerarquia, dado que los datos nulos que contenian representaban que no se tenia dinero ahorrado y que no se contaba con una cuenta de credito.\n",
        "* Se establecieron las relaciones entre varaibles.\n",
        "* Se tienen 6 variables de datos categoricos del cual tambien hace parte la variable dependiente\n",
        "* Se obtuvo los datos de las variables categoricas con subdivisiones de los datos para analizar cuantas personas tenian un buen y mal riesgo en función de su genero y la respectiva variable categorica y se determino que los hombres tenian una mayor cantidad de riesgo segiuro en cada categoria analizada\n",
        "* Se concluyo que la mayoria de deudores usaban el credito para comprar un carro, una televisión o una radio\n",
        "* Se hizo una distribución por edad y genero y se concluyo que \n",
        "* Se uso la tecnica de codificación `labelEncoder()` para los datos nominales menos la variable `Purpose` que se uso el metodo `get_dummies()`\n",
        "* Se denota que entre mas alta sea el monto de credito, mayor sera el tiempo del mismo\n",
        "* Se determina que el modelo en python es mejor dado que tiene mejores metricas, ya que en cada metrica supera a las de c++ en ambos datasets(prueba y entrenamiento), menos en el accuracy donde tiene una alta similitud"
      ]
    },
    {
      "cell_type": "markdown",
      "source": [
        "## Referencias\n",
        "- [Ejemplos de metricas de rendimiento en python](https://vitalflux.com/accuracy-precision-recall-f1-score-python-example/)\n",
        "\n",
        "- [Documentación sobre las metricas de rendimiento](https://www.iartificial.net/precision-recall-f1-accuracy-en-clasificacion/)\n",
        "- [Ejemplo del tratamiento del modelo sobre este dataset](https://www.kaggle.com/code/lesleyding/german-credit-risk-analysis-and-modeling)\n",
        "- [Dataset](https://www.kaggle.com/datasets/uciml/german-credit)\n"
      ],
      "metadata": {
        "id": "GAnhsuf6qyu6"
      }
    }
  ],
  "metadata": {
    "colab": {
      "provenance": []
    },
    "kernelspec": {
      "display_name": "Python 3.10.6 64-bit",
      "language": "python",
      "name": "python3"
    },
    "language_info": {
      "codemirror_mode": {
        "name": "ipython",
        "version": 3
      },
      "file_extension": ".py",
      "mimetype": "text/x-python",
      "name": "python",
      "nbconvert_exporter": "python",
      "pygments_lexer": "ipython3",
      "version": "3.10.6"
    },
    "vscode": {
      "interpreter": {
        "hash": "916dbcbb3f70747c44a77c7bcd40155683ae19c65e1c03b4aa3499c5328201f1"
      }
    }
  },
  "nbformat": 4,
  "nbformat_minor": 0
}